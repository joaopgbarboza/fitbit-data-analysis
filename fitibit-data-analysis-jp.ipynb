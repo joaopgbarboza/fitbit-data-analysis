{
 "cells": [
  {
   "cell_type": "markdown",
   "id": "fead0fd3",
   "metadata": {
    "papermill": {
     "duration": 0.01551,
     "end_time": "2024-08-21T23:03:33.122274",
     "exception": false,
     "start_time": "2024-08-21T23:03:33.106764",
     "status": "completed"
    },
    "tags": []
   },
   "source": [
    "#  This **Data Analysis** is part of the Capstone Project for the **Google Professional Data Analytics Certificate**"
   ]
  },
  {
   "cell_type": "markdown",
   "id": "1e2d196b",
   "metadata": {
    "papermill": {
     "duration": 0.013894,
     "end_time": "2024-08-21T23:03:33.150421",
     "exception": false,
     "start_time": "2024-08-21T23:03:33.136527",
     "status": "completed"
    },
    "tags": []
   },
   "source": [
    "As a junior data analyst part of the marketing analyst team at Bellabeat, a high-tech manufacturer of health-focused\n",
    "products for women that has a potential to be a larger player in the global smart device market, I was asked to analyse data from a smart device to have insights to help guiding the marketing strategy for the company.\n",
    "\n",
    "We are gonna explore the data from [FitBit Fitness Tracker Data](http://www.kaggle.com/datasets/arashnic/fitbit)"
   ]
  },
  {
   "cell_type": "markdown",
   "id": "8764a0a1",
   "metadata": {
    "papermill": {
     "duration": 0.01375,
     "end_time": "2024-08-21T23:03:33.178178",
     "exception": false,
     "start_time": "2024-08-21T23:03:33.164428",
     "status": "completed"
    },
    "tags": []
   },
   "source": [
    "**Business Task:** Analyse how people use their smart devices and try to find trends, gaps, and opportunities to improve or launch new products or campaigns to increase the number of users."
   ]
  },
  {
   "cell_type": "markdown",
   "id": "84246c47",
   "metadata": {
    "papermill": {
     "duration": 0.013749,
     "end_time": "2024-08-21T23:03:33.206020",
     "exception": false,
     "start_time": "2024-08-21T23:03:33.192271",
     "status": "completed"
    },
    "tags": []
   },
   "source": [
    "------------------------------------------------------------------------------------------------------------"
   ]
  },
  {
   "cell_type": "markdown",
   "id": "e0535f95",
   "metadata": {
    "papermill": {
     "duration": 0.013771,
     "end_time": "2024-08-21T23:03:33.234122",
     "exception": false,
     "start_time": "2024-08-21T23:03:33.220351",
     "status": "completed"
    },
    "tags": []
   },
   "source": [
    "# Summary"
   ]
  },
  {
   "cell_type": "markdown",
   "id": "d9dd897f",
   "metadata": {
    "papermill": {
     "duration": 0.013718,
     "end_time": "2024-08-21T23:03:33.262266",
     "exception": false,
     "start_time": "2024-08-21T23:03:33.248548",
     "status": "completed"
    },
    "tags": []
   },
   "source": [
    "In this **analysis** we've have found through the data that as more active they are, more calories they burn. Also the most active days of the week are Saturday and Tuesday, and interestingly the days that people sleep more are Sunday and Wednesday. In addition there is a positive correlation between time spent in bed and minutes of sleep. Last but not least, an important data is that **16% of the people are Sedentary** (based on our ranking counting total steps)."
   ]
  },
  {
   "cell_type": "markdown",
   "id": "393fadc1",
   "metadata": {
    "papermill": {
     "duration": 0.013657,
     "end_time": "2024-08-21T23:03:33.290089",
     "exception": false,
     "start_time": "2024-08-21T23:03:33.276432",
     "status": "completed"
    },
    "tags": []
   },
   "source": [
    "------------------------------------------------------------------------------------------------------------------------"
   ]
  },
  {
   "cell_type": "markdown",
   "id": "36816432",
   "metadata": {
    "papermill": {
     "duration": 0.013809,
     "end_time": "2024-08-21T23:03:33.317811",
     "exception": false,
     "start_time": "2024-08-21T23:03:33.304002",
     "status": "completed"
    },
    "tags": []
   },
   "source": [
    "# Import libraries "
   ]
  },
  {
   "cell_type": "code",
   "execution_count": 1,
   "id": "145c4a30",
   "metadata": {
    "execution": {
     "iopub.execute_input": "2024-08-21T23:03:33.352792Z",
     "iopub.status.busy": "2024-08-21T23:03:33.352321Z",
     "iopub.status.idle": "2024-08-21T23:03:35.434191Z",
     "shell.execute_reply": "2024-08-21T23:03:35.433088Z"
    },
    "papermill": {
     "duration": 2.10185,
     "end_time": "2024-08-21T23:03:35.437093",
     "exception": false,
     "start_time": "2024-08-21T23:03:33.335243",
     "status": "completed"
    },
    "tags": []
   },
   "outputs": [],
   "source": [
    "import pandas as pd\n",
    "import numpy as np\n",
    "import matplotlib.pyplot as plt\n",
    "import seaborn as sns\n",
    "import datetime as dt"
   ]
  },
  {
   "cell_type": "markdown",
   "id": "826abb30",
   "metadata": {
    "papermill": {
     "duration": 0.014351,
     "end_time": "2024-08-21T23:03:35.466216",
     "exception": false,
     "start_time": "2024-08-21T23:03:35.451865",
     "status": "completed"
    },
    "tags": []
   },
   "source": [
    "# Let's **Prepare** our data"
   ]
  },
  {
   "cell_type": "markdown",
   "id": "587c071b",
   "metadata": {
    "papermill": {
     "duration": 0.014269,
     "end_time": "2024-08-21T23:03:35.495149",
     "exception": false,
     "start_time": "2024-08-21T23:03:35.480880",
     "status": "completed"
    },
    "tags": []
   },
   "source": [
    "We have too much data, so I'm gonna select the *activity merged* data because I checked previously and it seems to have the main data that we will explore for the objective of the analysis"
   ]
  },
  {
   "cell_type": "code",
   "execution_count": 2,
   "id": "2197edfb",
   "metadata": {
    "execution": {
     "iopub.execute_input": "2024-08-21T23:03:35.527549Z",
     "iopub.status.busy": "2024-08-21T23:03:35.526315Z",
     "iopub.status.idle": "2024-08-21T23:03:35.557084Z",
     "shell.execute_reply": "2024-08-21T23:03:35.555912Z"
    },
    "papermill": {
     "duration": 0.050328,
     "end_time": "2024-08-21T23:03:35.559580",
     "exception": false,
     "start_time": "2024-08-21T23:03:35.509252",
     "status": "completed"
    },
    "tags": []
   },
   "outputs": [],
   "source": [
    "df = pd.read_csv('/kaggle/input/fitbit/mturkfitbit_export_4.12.16-5.12.16/Fitabase Data 4.12.16-5.12.16/dailyActivity_merged.csv')"
   ]
  },
  {
   "cell_type": "code",
   "execution_count": 3,
   "id": "9d1eab37",
   "metadata": {
    "execution": {
     "iopub.execute_input": "2024-08-21T23:03:35.589648Z",
     "iopub.status.busy": "2024-08-21T23:03:35.589176Z",
     "iopub.status.idle": "2024-08-21T23:03:35.596830Z",
     "shell.execute_reply": "2024-08-21T23:03:35.595686Z"
    },
    "papermill": {
     "duration": 0.02509,
     "end_time": "2024-08-21T23:03:35.598943",
     "exception": false,
     "start_time": "2024-08-21T23:03:35.573853",
     "status": "completed"
    },
    "tags": []
   },
   "outputs": [
    {
     "data": {
      "text/plain": [
       "(940, 15)"
      ]
     },
     "execution_count": 3,
     "metadata": {},
     "output_type": "execute_result"
    }
   ],
   "source": [
    "df.shape"
   ]
  },
  {
   "cell_type": "code",
   "execution_count": 4,
   "id": "5be4502a",
   "metadata": {
    "execution": {
     "iopub.execute_input": "2024-08-21T23:03:35.629442Z",
     "iopub.status.busy": "2024-08-21T23:03:35.628981Z",
     "iopub.status.idle": "2024-08-21T23:03:35.637444Z",
     "shell.execute_reply": "2024-08-21T23:03:35.636323Z"
    },
    "papermill": {
     "duration": 0.026413,
     "end_time": "2024-08-21T23:03:35.639644",
     "exception": false,
     "start_time": "2024-08-21T23:03:35.613231",
     "status": "completed"
    },
    "tags": []
   },
   "outputs": [
    {
     "data": {
      "text/plain": [
       "Index(['Id', 'ActivityDate', 'TotalSteps', 'TotalDistance', 'TrackerDistance',\n",
       "       'LoggedActivitiesDistance', 'VeryActiveDistance',\n",
       "       'ModeratelyActiveDistance', 'LightActiveDistance',\n",
       "       'SedentaryActiveDistance', 'VeryActiveMinutes', 'FairlyActiveMinutes',\n",
       "       'LightlyActiveMinutes', 'SedentaryMinutes', 'Calories'],\n",
       "      dtype='object')"
      ]
     },
     "execution_count": 4,
     "metadata": {},
     "output_type": "execute_result"
    }
   ],
   "source": [
    "df.columns"
   ]
  },
  {
   "cell_type": "code",
   "execution_count": 5,
   "id": "5300d536",
   "metadata": {
    "execution": {
     "iopub.execute_input": "2024-08-21T23:03:35.670632Z",
     "iopub.status.busy": "2024-08-21T23:03:35.670081Z",
     "iopub.status.idle": "2024-08-21T23:03:35.702505Z",
     "shell.execute_reply": "2024-08-21T23:03:35.701171Z"
    },
    "papermill": {
     "duration": 0.051008,
     "end_time": "2024-08-21T23:03:35.705106",
     "exception": false,
     "start_time": "2024-08-21T23:03:35.654098",
     "status": "completed"
    },
    "tags": []
   },
   "outputs": [
    {
     "data": {
      "text/html": [
       "<div>\n",
       "<style scoped>\n",
       "    .dataframe tbody tr th:only-of-type {\n",
       "        vertical-align: middle;\n",
       "    }\n",
       "\n",
       "    .dataframe tbody tr th {\n",
       "        vertical-align: top;\n",
       "    }\n",
       "\n",
       "    .dataframe thead th {\n",
       "        text-align: right;\n",
       "    }\n",
       "</style>\n",
       "<table border=\"1\" class=\"dataframe\">\n",
       "  <thead>\n",
       "    <tr style=\"text-align: right;\">\n",
       "      <th></th>\n",
       "      <th>Id</th>\n",
       "      <th>ActivityDate</th>\n",
       "      <th>TotalSteps</th>\n",
       "      <th>TotalDistance</th>\n",
       "      <th>TrackerDistance</th>\n",
       "      <th>LoggedActivitiesDistance</th>\n",
       "      <th>VeryActiveDistance</th>\n",
       "      <th>ModeratelyActiveDistance</th>\n",
       "      <th>LightActiveDistance</th>\n",
       "      <th>SedentaryActiveDistance</th>\n",
       "      <th>VeryActiveMinutes</th>\n",
       "      <th>FairlyActiveMinutes</th>\n",
       "      <th>LightlyActiveMinutes</th>\n",
       "      <th>SedentaryMinutes</th>\n",
       "      <th>Calories</th>\n",
       "    </tr>\n",
       "  </thead>\n",
       "  <tbody>\n",
       "    <tr>\n",
       "      <th>0</th>\n",
       "      <td>1503960366</td>\n",
       "      <td>4/12/2016</td>\n",
       "      <td>13162</td>\n",
       "      <td>8.50</td>\n",
       "      <td>8.50</td>\n",
       "      <td>0.0</td>\n",
       "      <td>1.88</td>\n",
       "      <td>0.55</td>\n",
       "      <td>6.06</td>\n",
       "      <td>0.0</td>\n",
       "      <td>25</td>\n",
       "      <td>13</td>\n",
       "      <td>328</td>\n",
       "      <td>728</td>\n",
       "      <td>1985</td>\n",
       "    </tr>\n",
       "    <tr>\n",
       "      <th>1</th>\n",
       "      <td>1503960366</td>\n",
       "      <td>4/13/2016</td>\n",
       "      <td>10735</td>\n",
       "      <td>6.97</td>\n",
       "      <td>6.97</td>\n",
       "      <td>0.0</td>\n",
       "      <td>1.57</td>\n",
       "      <td>0.69</td>\n",
       "      <td>4.71</td>\n",
       "      <td>0.0</td>\n",
       "      <td>21</td>\n",
       "      <td>19</td>\n",
       "      <td>217</td>\n",
       "      <td>776</td>\n",
       "      <td>1797</td>\n",
       "    </tr>\n",
       "    <tr>\n",
       "      <th>2</th>\n",
       "      <td>1503960366</td>\n",
       "      <td>4/14/2016</td>\n",
       "      <td>10460</td>\n",
       "      <td>6.74</td>\n",
       "      <td>6.74</td>\n",
       "      <td>0.0</td>\n",
       "      <td>2.44</td>\n",
       "      <td>0.40</td>\n",
       "      <td>3.91</td>\n",
       "      <td>0.0</td>\n",
       "      <td>30</td>\n",
       "      <td>11</td>\n",
       "      <td>181</td>\n",
       "      <td>1218</td>\n",
       "      <td>1776</td>\n",
       "    </tr>\n",
       "    <tr>\n",
       "      <th>3</th>\n",
       "      <td>1503960366</td>\n",
       "      <td>4/15/2016</td>\n",
       "      <td>9762</td>\n",
       "      <td>6.28</td>\n",
       "      <td>6.28</td>\n",
       "      <td>0.0</td>\n",
       "      <td>2.14</td>\n",
       "      <td>1.26</td>\n",
       "      <td>2.83</td>\n",
       "      <td>0.0</td>\n",
       "      <td>29</td>\n",
       "      <td>34</td>\n",
       "      <td>209</td>\n",
       "      <td>726</td>\n",
       "      <td>1745</td>\n",
       "    </tr>\n",
       "    <tr>\n",
       "      <th>4</th>\n",
       "      <td>1503960366</td>\n",
       "      <td>4/16/2016</td>\n",
       "      <td>12669</td>\n",
       "      <td>8.16</td>\n",
       "      <td>8.16</td>\n",
       "      <td>0.0</td>\n",
       "      <td>2.71</td>\n",
       "      <td>0.41</td>\n",
       "      <td>5.04</td>\n",
       "      <td>0.0</td>\n",
       "      <td>36</td>\n",
       "      <td>10</td>\n",
       "      <td>221</td>\n",
       "      <td>773</td>\n",
       "      <td>1863</td>\n",
       "    </tr>\n",
       "    <tr>\n",
       "      <th>5</th>\n",
       "      <td>1503960366</td>\n",
       "      <td>4/17/2016</td>\n",
       "      <td>9705</td>\n",
       "      <td>6.48</td>\n",
       "      <td>6.48</td>\n",
       "      <td>0.0</td>\n",
       "      <td>3.19</td>\n",
       "      <td>0.78</td>\n",
       "      <td>2.51</td>\n",
       "      <td>0.0</td>\n",
       "      <td>38</td>\n",
       "      <td>20</td>\n",
       "      <td>164</td>\n",
       "      <td>539</td>\n",
       "      <td>1728</td>\n",
       "    </tr>\n",
       "    <tr>\n",
       "      <th>6</th>\n",
       "      <td>1503960366</td>\n",
       "      <td>4/18/2016</td>\n",
       "      <td>13019</td>\n",
       "      <td>8.59</td>\n",
       "      <td>8.59</td>\n",
       "      <td>0.0</td>\n",
       "      <td>3.25</td>\n",
       "      <td>0.64</td>\n",
       "      <td>4.71</td>\n",
       "      <td>0.0</td>\n",
       "      <td>42</td>\n",
       "      <td>16</td>\n",
       "      <td>233</td>\n",
       "      <td>1149</td>\n",
       "      <td>1921</td>\n",
       "    </tr>\n",
       "    <tr>\n",
       "      <th>7</th>\n",
       "      <td>1503960366</td>\n",
       "      <td>4/19/2016</td>\n",
       "      <td>15506</td>\n",
       "      <td>9.88</td>\n",
       "      <td>9.88</td>\n",
       "      <td>0.0</td>\n",
       "      <td>3.53</td>\n",
       "      <td>1.32</td>\n",
       "      <td>5.03</td>\n",
       "      <td>0.0</td>\n",
       "      <td>50</td>\n",
       "      <td>31</td>\n",
       "      <td>264</td>\n",
       "      <td>775</td>\n",
       "      <td>2035</td>\n",
       "    </tr>\n",
       "    <tr>\n",
       "      <th>8</th>\n",
       "      <td>1503960366</td>\n",
       "      <td>4/20/2016</td>\n",
       "      <td>10544</td>\n",
       "      <td>6.68</td>\n",
       "      <td>6.68</td>\n",
       "      <td>0.0</td>\n",
       "      <td>1.96</td>\n",
       "      <td>0.48</td>\n",
       "      <td>4.24</td>\n",
       "      <td>0.0</td>\n",
       "      <td>28</td>\n",
       "      <td>12</td>\n",
       "      <td>205</td>\n",
       "      <td>818</td>\n",
       "      <td>1786</td>\n",
       "    </tr>\n",
       "    <tr>\n",
       "      <th>9</th>\n",
       "      <td>1503960366</td>\n",
       "      <td>4/21/2016</td>\n",
       "      <td>9819</td>\n",
       "      <td>6.34</td>\n",
       "      <td>6.34</td>\n",
       "      <td>0.0</td>\n",
       "      <td>1.34</td>\n",
       "      <td>0.35</td>\n",
       "      <td>4.65</td>\n",
       "      <td>0.0</td>\n",
       "      <td>19</td>\n",
       "      <td>8</td>\n",
       "      <td>211</td>\n",
       "      <td>838</td>\n",
       "      <td>1775</td>\n",
       "    </tr>\n",
       "  </tbody>\n",
       "</table>\n",
       "</div>"
      ],
      "text/plain": [
       "           Id ActivityDate  TotalSteps  TotalDistance  TrackerDistance  \\\n",
       "0  1503960366    4/12/2016       13162           8.50             8.50   \n",
       "1  1503960366    4/13/2016       10735           6.97             6.97   \n",
       "2  1503960366    4/14/2016       10460           6.74             6.74   \n",
       "3  1503960366    4/15/2016        9762           6.28             6.28   \n",
       "4  1503960366    4/16/2016       12669           8.16             8.16   \n",
       "5  1503960366    4/17/2016        9705           6.48             6.48   \n",
       "6  1503960366    4/18/2016       13019           8.59             8.59   \n",
       "7  1503960366    4/19/2016       15506           9.88             9.88   \n",
       "8  1503960366    4/20/2016       10544           6.68             6.68   \n",
       "9  1503960366    4/21/2016        9819           6.34             6.34   \n",
       "\n",
       "   LoggedActivitiesDistance  VeryActiveDistance  ModeratelyActiveDistance  \\\n",
       "0                       0.0                1.88                      0.55   \n",
       "1                       0.0                1.57                      0.69   \n",
       "2                       0.0                2.44                      0.40   \n",
       "3                       0.0                2.14                      1.26   \n",
       "4                       0.0                2.71                      0.41   \n",
       "5                       0.0                3.19                      0.78   \n",
       "6                       0.0                3.25                      0.64   \n",
       "7                       0.0                3.53                      1.32   \n",
       "8                       0.0                1.96                      0.48   \n",
       "9                       0.0                1.34                      0.35   \n",
       "\n",
       "   LightActiveDistance  SedentaryActiveDistance  VeryActiveMinutes  \\\n",
       "0                 6.06                      0.0                 25   \n",
       "1                 4.71                      0.0                 21   \n",
       "2                 3.91                      0.0                 30   \n",
       "3                 2.83                      0.0                 29   \n",
       "4                 5.04                      0.0                 36   \n",
       "5                 2.51                      0.0                 38   \n",
       "6                 4.71                      0.0                 42   \n",
       "7                 5.03                      0.0                 50   \n",
       "8                 4.24                      0.0                 28   \n",
       "9                 4.65                      0.0                 19   \n",
       "\n",
       "   FairlyActiveMinutes  LightlyActiveMinutes  SedentaryMinutes  Calories  \n",
       "0                   13                   328               728      1985  \n",
       "1                   19                   217               776      1797  \n",
       "2                   11                   181              1218      1776  \n",
       "3                   34                   209               726      1745  \n",
       "4                   10                   221               773      1863  \n",
       "5                   20                   164               539      1728  \n",
       "6                   16                   233              1149      1921  \n",
       "7                   31                   264               775      2035  \n",
       "8                   12                   205               818      1786  \n",
       "9                    8                   211               838      1775  "
      ]
     },
     "execution_count": 5,
     "metadata": {},
     "output_type": "execute_result"
    }
   ],
   "source": [
    "df.head(10)"
   ]
  },
  {
   "cell_type": "code",
   "execution_count": 6,
   "id": "c5a7415d",
   "metadata": {
    "execution": {
     "iopub.execute_input": "2024-08-21T23:03:35.736824Z",
     "iopub.status.busy": "2024-08-21T23:03:35.736423Z",
     "iopub.status.idle": "2024-08-21T23:03:35.786158Z",
     "shell.execute_reply": "2024-08-21T23:03:35.784906Z"
    },
    "papermill": {
     "duration": 0.068512,
     "end_time": "2024-08-21T23:03:35.788670",
     "exception": false,
     "start_time": "2024-08-21T23:03:35.720158",
     "status": "completed"
    },
    "tags": []
   },
   "outputs": [
    {
     "data": {
      "text/html": [
       "<div>\n",
       "<style scoped>\n",
       "    .dataframe tbody tr th:only-of-type {\n",
       "        vertical-align: middle;\n",
       "    }\n",
       "\n",
       "    .dataframe tbody tr th {\n",
       "        vertical-align: top;\n",
       "    }\n",
       "\n",
       "    .dataframe thead th {\n",
       "        text-align: right;\n",
       "    }\n",
       "</style>\n",
       "<table border=\"1\" class=\"dataframe\">\n",
       "  <thead>\n",
       "    <tr style=\"text-align: right;\">\n",
       "      <th></th>\n",
       "      <th>Id</th>\n",
       "      <th>TotalSteps</th>\n",
       "      <th>TotalDistance</th>\n",
       "      <th>TrackerDistance</th>\n",
       "      <th>LoggedActivitiesDistance</th>\n",
       "      <th>VeryActiveDistance</th>\n",
       "      <th>ModeratelyActiveDistance</th>\n",
       "      <th>LightActiveDistance</th>\n",
       "      <th>SedentaryActiveDistance</th>\n",
       "      <th>VeryActiveMinutes</th>\n",
       "      <th>FairlyActiveMinutes</th>\n",
       "      <th>LightlyActiveMinutes</th>\n",
       "      <th>SedentaryMinutes</th>\n",
       "      <th>Calories</th>\n",
       "    </tr>\n",
       "  </thead>\n",
       "  <tbody>\n",
       "    <tr>\n",
       "      <th>count</th>\n",
       "      <td>9.400000e+02</td>\n",
       "      <td>940.000000</td>\n",
       "      <td>940.000000</td>\n",
       "      <td>940.000000</td>\n",
       "      <td>940.000000</td>\n",
       "      <td>940.000000</td>\n",
       "      <td>940.000000</td>\n",
       "      <td>940.000000</td>\n",
       "      <td>940.000000</td>\n",
       "      <td>940.000000</td>\n",
       "      <td>940.000000</td>\n",
       "      <td>940.000000</td>\n",
       "      <td>940.000000</td>\n",
       "      <td>940.000000</td>\n",
       "    </tr>\n",
       "    <tr>\n",
       "      <th>mean</th>\n",
       "      <td>4.855407e+09</td>\n",
       "      <td>7637.910638</td>\n",
       "      <td>5.489702</td>\n",
       "      <td>5.475351</td>\n",
       "      <td>0.108171</td>\n",
       "      <td>1.502681</td>\n",
       "      <td>0.567543</td>\n",
       "      <td>3.340819</td>\n",
       "      <td>0.001606</td>\n",
       "      <td>21.164894</td>\n",
       "      <td>13.564894</td>\n",
       "      <td>192.812766</td>\n",
       "      <td>991.210638</td>\n",
       "      <td>2303.609574</td>\n",
       "    </tr>\n",
       "    <tr>\n",
       "      <th>std</th>\n",
       "      <td>2.424805e+09</td>\n",
       "      <td>5087.150742</td>\n",
       "      <td>3.924606</td>\n",
       "      <td>3.907276</td>\n",
       "      <td>0.619897</td>\n",
       "      <td>2.658941</td>\n",
       "      <td>0.883580</td>\n",
       "      <td>2.040655</td>\n",
       "      <td>0.007346</td>\n",
       "      <td>32.844803</td>\n",
       "      <td>19.987404</td>\n",
       "      <td>109.174700</td>\n",
       "      <td>301.267437</td>\n",
       "      <td>718.166862</td>\n",
       "    </tr>\n",
       "    <tr>\n",
       "      <th>min</th>\n",
       "      <td>1.503960e+09</td>\n",
       "      <td>0.000000</td>\n",
       "      <td>0.000000</td>\n",
       "      <td>0.000000</td>\n",
       "      <td>0.000000</td>\n",
       "      <td>0.000000</td>\n",
       "      <td>0.000000</td>\n",
       "      <td>0.000000</td>\n",
       "      <td>0.000000</td>\n",
       "      <td>0.000000</td>\n",
       "      <td>0.000000</td>\n",
       "      <td>0.000000</td>\n",
       "      <td>0.000000</td>\n",
       "      <td>0.000000</td>\n",
       "    </tr>\n",
       "    <tr>\n",
       "      <th>25%</th>\n",
       "      <td>2.320127e+09</td>\n",
       "      <td>3789.750000</td>\n",
       "      <td>2.620000</td>\n",
       "      <td>2.620000</td>\n",
       "      <td>0.000000</td>\n",
       "      <td>0.000000</td>\n",
       "      <td>0.000000</td>\n",
       "      <td>1.945000</td>\n",
       "      <td>0.000000</td>\n",
       "      <td>0.000000</td>\n",
       "      <td>0.000000</td>\n",
       "      <td>127.000000</td>\n",
       "      <td>729.750000</td>\n",
       "      <td>1828.500000</td>\n",
       "    </tr>\n",
       "    <tr>\n",
       "      <th>50%</th>\n",
       "      <td>4.445115e+09</td>\n",
       "      <td>7405.500000</td>\n",
       "      <td>5.245000</td>\n",
       "      <td>5.245000</td>\n",
       "      <td>0.000000</td>\n",
       "      <td>0.210000</td>\n",
       "      <td>0.240000</td>\n",
       "      <td>3.365000</td>\n",
       "      <td>0.000000</td>\n",
       "      <td>4.000000</td>\n",
       "      <td>6.000000</td>\n",
       "      <td>199.000000</td>\n",
       "      <td>1057.500000</td>\n",
       "      <td>2134.000000</td>\n",
       "    </tr>\n",
       "    <tr>\n",
       "      <th>75%</th>\n",
       "      <td>6.962181e+09</td>\n",
       "      <td>10727.000000</td>\n",
       "      <td>7.712500</td>\n",
       "      <td>7.710000</td>\n",
       "      <td>0.000000</td>\n",
       "      <td>2.052500</td>\n",
       "      <td>0.800000</td>\n",
       "      <td>4.782500</td>\n",
       "      <td>0.000000</td>\n",
       "      <td>32.000000</td>\n",
       "      <td>19.000000</td>\n",
       "      <td>264.000000</td>\n",
       "      <td>1229.500000</td>\n",
       "      <td>2793.250000</td>\n",
       "    </tr>\n",
       "    <tr>\n",
       "      <th>max</th>\n",
       "      <td>8.877689e+09</td>\n",
       "      <td>36019.000000</td>\n",
       "      <td>28.030001</td>\n",
       "      <td>28.030001</td>\n",
       "      <td>4.942142</td>\n",
       "      <td>21.920000</td>\n",
       "      <td>6.480000</td>\n",
       "      <td>10.710000</td>\n",
       "      <td>0.110000</td>\n",
       "      <td>210.000000</td>\n",
       "      <td>143.000000</td>\n",
       "      <td>518.000000</td>\n",
       "      <td>1440.000000</td>\n",
       "      <td>4900.000000</td>\n",
       "    </tr>\n",
       "  </tbody>\n",
       "</table>\n",
       "</div>"
      ],
      "text/plain": [
       "                 Id    TotalSteps  TotalDistance  TrackerDistance  \\\n",
       "count  9.400000e+02    940.000000     940.000000       940.000000   \n",
       "mean   4.855407e+09   7637.910638       5.489702         5.475351   \n",
       "std    2.424805e+09   5087.150742       3.924606         3.907276   \n",
       "min    1.503960e+09      0.000000       0.000000         0.000000   \n",
       "25%    2.320127e+09   3789.750000       2.620000         2.620000   \n",
       "50%    4.445115e+09   7405.500000       5.245000         5.245000   \n",
       "75%    6.962181e+09  10727.000000       7.712500         7.710000   \n",
       "max    8.877689e+09  36019.000000      28.030001        28.030001   \n",
       "\n",
       "       LoggedActivitiesDistance  VeryActiveDistance  ModeratelyActiveDistance  \\\n",
       "count                940.000000          940.000000                940.000000   \n",
       "mean                   0.108171            1.502681                  0.567543   \n",
       "std                    0.619897            2.658941                  0.883580   \n",
       "min                    0.000000            0.000000                  0.000000   \n",
       "25%                    0.000000            0.000000                  0.000000   \n",
       "50%                    0.000000            0.210000                  0.240000   \n",
       "75%                    0.000000            2.052500                  0.800000   \n",
       "max                    4.942142           21.920000                  6.480000   \n",
       "\n",
       "       LightActiveDistance  SedentaryActiveDistance  VeryActiveMinutes  \\\n",
       "count           940.000000               940.000000         940.000000   \n",
       "mean              3.340819                 0.001606          21.164894   \n",
       "std               2.040655                 0.007346          32.844803   \n",
       "min               0.000000                 0.000000           0.000000   \n",
       "25%               1.945000                 0.000000           0.000000   \n",
       "50%               3.365000                 0.000000           4.000000   \n",
       "75%               4.782500                 0.000000          32.000000   \n",
       "max              10.710000                 0.110000         210.000000   \n",
       "\n",
       "       FairlyActiveMinutes  LightlyActiveMinutes  SedentaryMinutes  \\\n",
       "count           940.000000            940.000000        940.000000   \n",
       "mean             13.564894            192.812766        991.210638   \n",
       "std              19.987404            109.174700        301.267437   \n",
       "min               0.000000              0.000000          0.000000   \n",
       "25%               0.000000            127.000000        729.750000   \n",
       "50%               6.000000            199.000000       1057.500000   \n",
       "75%              19.000000            264.000000       1229.500000   \n",
       "max             143.000000            518.000000       1440.000000   \n",
       "\n",
       "          Calories  \n",
       "count   940.000000  \n",
       "mean   2303.609574  \n",
       "std     718.166862  \n",
       "min       0.000000  \n",
       "25%    1828.500000  \n",
       "50%    2134.000000  \n",
       "75%    2793.250000  \n",
       "max    4900.000000  "
      ]
     },
     "execution_count": 6,
     "metadata": {},
     "output_type": "execute_result"
    }
   ],
   "source": [
    "df.describe()"
   ]
  },
  {
   "cell_type": "code",
   "execution_count": 7,
   "id": "5ee58bfd",
   "metadata": {
    "execution": {
     "iopub.execute_input": "2024-08-21T23:03:35.821115Z",
     "iopub.status.busy": "2024-08-21T23:03:35.820722Z",
     "iopub.status.idle": "2024-08-21T23:03:35.829608Z",
     "shell.execute_reply": "2024-08-21T23:03:35.828533Z"
    },
    "papermill": {
     "duration": 0.027969,
     "end_time": "2024-08-21T23:03:35.832029",
     "exception": false,
     "start_time": "2024-08-21T23:03:35.804060",
     "status": "completed"
    },
    "tags": []
   },
   "outputs": [
    {
     "data": {
      "text/plain": [
       "Id                            int64\n",
       "ActivityDate                 object\n",
       "TotalSteps                    int64\n",
       "TotalDistance               float64\n",
       "TrackerDistance             float64\n",
       "LoggedActivitiesDistance    float64\n",
       "VeryActiveDistance          float64\n",
       "ModeratelyActiveDistance    float64\n",
       "LightActiveDistance         float64\n",
       "SedentaryActiveDistance     float64\n",
       "VeryActiveMinutes             int64\n",
       "FairlyActiveMinutes           int64\n",
       "LightlyActiveMinutes          int64\n",
       "SedentaryMinutes              int64\n",
       "Calories                      int64\n",
       "dtype: object"
      ]
     },
     "execution_count": 7,
     "metadata": {},
     "output_type": "execute_result"
    }
   ],
   "source": [
    "df.dtypes"
   ]
  },
  {
   "cell_type": "markdown",
   "id": "4abc5fb6",
   "metadata": {
    "papermill": {
     "duration": 0.01506,
     "end_time": "2024-08-21T23:03:35.863430",
     "exception": false,
     "start_time": "2024-08-21T23:03:35.848370",
     "status": "completed"
    },
    "tags": []
   },
   "source": [
    "# Hmmm, we should make some changes here:\n",
    "1. Rename *ActivityDate* to be more simple\n",
    "2. *ActivityDate* should have a 'date' format\n",
    "3. *Id* should be a 'string'"
   ]
  },
  {
   "cell_type": "markdown",
   "id": "8c4eb8d8",
   "metadata": {
    "papermill": {
     "duration": 0.015136,
     "end_time": "2024-08-21T23:03:35.894277",
     "exception": false,
     "start_time": "2024-08-21T23:03:35.879141",
     "status": "completed"
    },
    "tags": []
   },
   "source": [
    "# Cleaning Time! "
   ]
  },
  {
   "cell_type": "code",
   "execution_count": 8,
   "id": "6992f3d3",
   "metadata": {
    "execution": {
     "iopub.execute_input": "2024-08-21T23:03:35.927064Z",
     "iopub.status.busy": "2024-08-21T23:03:35.926651Z",
     "iopub.status.idle": "2024-08-21T23:03:35.932476Z",
     "shell.execute_reply": "2024-08-21T23:03:35.931329Z"
    },
    "papermill": {
     "duration": 0.02514,
     "end_time": "2024-08-21T23:03:35.934824",
     "exception": false,
     "start_time": "2024-08-21T23:03:35.909684",
     "status": "completed"
    },
    "tags": []
   },
   "outputs": [],
   "source": [
    "#Renaming\n",
    "df.rename(columns={'ActivityDate':'Date'},inplace=True)\n"
   ]
  },
  {
   "cell_type": "code",
   "execution_count": 9,
   "id": "3e459cd9",
   "metadata": {
    "execution": {
     "iopub.execute_input": "2024-08-21T23:03:35.967279Z",
     "iopub.status.busy": "2024-08-21T23:03:35.966881Z",
     "iopub.status.idle": "2024-08-21T23:03:35.984026Z",
     "shell.execute_reply": "2024-08-21T23:03:35.982877Z"
    },
    "papermill": {
     "duration": 0.036205,
     "end_time": "2024-08-21T23:03:35.986445",
     "exception": false,
     "start_time": "2024-08-21T23:03:35.950240",
     "status": "completed"
    },
    "tags": []
   },
   "outputs": [],
   "source": [
    "#Changing formats\n",
    "df['Date'] = pd.to_datetime(df['Date'], format = '%m/%d/%Y')\n",
    "df['Id'] = df['Id'].astype(str)"
   ]
  },
  {
   "cell_type": "code",
   "execution_count": 10,
   "id": "6046ca92",
   "metadata": {
    "execution": {
     "iopub.execute_input": "2024-08-21T23:03:36.020662Z",
     "iopub.status.busy": "2024-08-21T23:03:36.020205Z",
     "iopub.status.idle": "2024-08-21T23:03:36.029708Z",
     "shell.execute_reply": "2024-08-21T23:03:36.028423Z"
    },
    "papermill": {
     "duration": 0.029374,
     "end_time": "2024-08-21T23:03:36.032166",
     "exception": false,
     "start_time": "2024-08-21T23:03:36.002792",
     "status": "completed"
    },
    "tags": []
   },
   "outputs": [
    {
     "data": {
      "text/plain": [
       "Id                                  object\n",
       "Date                        datetime64[ns]\n",
       "TotalSteps                           int64\n",
       "TotalDistance                      float64\n",
       "TrackerDistance                    float64\n",
       "LoggedActivitiesDistance           float64\n",
       "VeryActiveDistance                 float64\n",
       "ModeratelyActiveDistance           float64\n",
       "LightActiveDistance                float64\n",
       "SedentaryActiveDistance            float64\n",
       "VeryActiveMinutes                    int64\n",
       "FairlyActiveMinutes                  int64\n",
       "LightlyActiveMinutes                 int64\n",
       "SedentaryMinutes                     int64\n",
       "Calories                             int64\n",
       "dtype: object"
      ]
     },
     "execution_count": 10,
     "metadata": {},
     "output_type": "execute_result"
    }
   ],
   "source": [
    "df.dtypes"
   ]
  },
  {
   "cell_type": "code",
   "execution_count": 11,
   "id": "59917d22",
   "metadata": {
    "execution": {
     "iopub.execute_input": "2024-08-21T23:03:36.065506Z",
     "iopub.status.busy": "2024-08-21T23:03:36.065097Z",
     "iopub.status.idle": "2024-08-21T23:03:36.084837Z",
     "shell.execute_reply": "2024-08-21T23:03:36.083735Z"
    },
    "papermill": {
     "duration": 0.039337,
     "end_time": "2024-08-21T23:03:36.087255",
     "exception": false,
     "start_time": "2024-08-21T23:03:36.047918",
     "status": "completed"
    },
    "tags": []
   },
   "outputs": [
    {
     "data": {
      "text/html": [
       "<div>\n",
       "<style scoped>\n",
       "    .dataframe tbody tr th:only-of-type {\n",
       "        vertical-align: middle;\n",
       "    }\n",
       "\n",
       "    .dataframe tbody tr th {\n",
       "        vertical-align: top;\n",
       "    }\n",
       "\n",
       "    .dataframe thead th {\n",
       "        text-align: right;\n",
       "    }\n",
       "</style>\n",
       "<table border=\"1\" class=\"dataframe\">\n",
       "  <thead>\n",
       "    <tr style=\"text-align: right;\">\n",
       "      <th></th>\n",
       "      <th>Id</th>\n",
       "      <th>Date</th>\n",
       "      <th>TotalSteps</th>\n",
       "      <th>TotalDistance</th>\n",
       "      <th>TrackerDistance</th>\n",
       "      <th>LoggedActivitiesDistance</th>\n",
       "      <th>VeryActiveDistance</th>\n",
       "      <th>ModeratelyActiveDistance</th>\n",
       "      <th>LightActiveDistance</th>\n",
       "      <th>SedentaryActiveDistance</th>\n",
       "      <th>VeryActiveMinutes</th>\n",
       "      <th>FairlyActiveMinutes</th>\n",
       "      <th>LightlyActiveMinutes</th>\n",
       "      <th>SedentaryMinutes</th>\n",
       "      <th>Calories</th>\n",
       "    </tr>\n",
       "  </thead>\n",
       "  <tbody>\n",
       "    <tr>\n",
       "      <th>0</th>\n",
       "      <td>1503960366</td>\n",
       "      <td>2016-04-12</td>\n",
       "      <td>13162</td>\n",
       "      <td>8.50</td>\n",
       "      <td>8.50</td>\n",
       "      <td>0.0</td>\n",
       "      <td>1.88</td>\n",
       "      <td>0.55</td>\n",
       "      <td>6.06</td>\n",
       "      <td>0.0</td>\n",
       "      <td>25</td>\n",
       "      <td>13</td>\n",
       "      <td>328</td>\n",
       "      <td>728</td>\n",
       "      <td>1985</td>\n",
       "    </tr>\n",
       "    <tr>\n",
       "      <th>1</th>\n",
       "      <td>1503960366</td>\n",
       "      <td>2016-04-13</td>\n",
       "      <td>10735</td>\n",
       "      <td>6.97</td>\n",
       "      <td>6.97</td>\n",
       "      <td>0.0</td>\n",
       "      <td>1.57</td>\n",
       "      <td>0.69</td>\n",
       "      <td>4.71</td>\n",
       "      <td>0.0</td>\n",
       "      <td>21</td>\n",
       "      <td>19</td>\n",
       "      <td>217</td>\n",
       "      <td>776</td>\n",
       "      <td>1797</td>\n",
       "    </tr>\n",
       "    <tr>\n",
       "      <th>2</th>\n",
       "      <td>1503960366</td>\n",
       "      <td>2016-04-14</td>\n",
       "      <td>10460</td>\n",
       "      <td>6.74</td>\n",
       "      <td>6.74</td>\n",
       "      <td>0.0</td>\n",
       "      <td>2.44</td>\n",
       "      <td>0.40</td>\n",
       "      <td>3.91</td>\n",
       "      <td>0.0</td>\n",
       "      <td>30</td>\n",
       "      <td>11</td>\n",
       "      <td>181</td>\n",
       "      <td>1218</td>\n",
       "      <td>1776</td>\n",
       "    </tr>\n",
       "    <tr>\n",
       "      <th>3</th>\n",
       "      <td>1503960366</td>\n",
       "      <td>2016-04-15</td>\n",
       "      <td>9762</td>\n",
       "      <td>6.28</td>\n",
       "      <td>6.28</td>\n",
       "      <td>0.0</td>\n",
       "      <td>2.14</td>\n",
       "      <td>1.26</td>\n",
       "      <td>2.83</td>\n",
       "      <td>0.0</td>\n",
       "      <td>29</td>\n",
       "      <td>34</td>\n",
       "      <td>209</td>\n",
       "      <td>726</td>\n",
       "      <td>1745</td>\n",
       "    </tr>\n",
       "    <tr>\n",
       "      <th>4</th>\n",
       "      <td>1503960366</td>\n",
       "      <td>2016-04-16</td>\n",
       "      <td>12669</td>\n",
       "      <td>8.16</td>\n",
       "      <td>8.16</td>\n",
       "      <td>0.0</td>\n",
       "      <td>2.71</td>\n",
       "      <td>0.41</td>\n",
       "      <td>5.04</td>\n",
       "      <td>0.0</td>\n",
       "      <td>36</td>\n",
       "      <td>10</td>\n",
       "      <td>221</td>\n",
       "      <td>773</td>\n",
       "      <td>1863</td>\n",
       "    </tr>\n",
       "  </tbody>\n",
       "</table>\n",
       "</div>"
      ],
      "text/plain": [
       "           Id       Date  TotalSteps  TotalDistance  TrackerDistance  \\\n",
       "0  1503960366 2016-04-12       13162           8.50             8.50   \n",
       "1  1503960366 2016-04-13       10735           6.97             6.97   \n",
       "2  1503960366 2016-04-14       10460           6.74             6.74   \n",
       "3  1503960366 2016-04-15        9762           6.28             6.28   \n",
       "4  1503960366 2016-04-16       12669           8.16             8.16   \n",
       "\n",
       "   LoggedActivitiesDistance  VeryActiveDistance  ModeratelyActiveDistance  \\\n",
       "0                       0.0                1.88                      0.55   \n",
       "1                       0.0                1.57                      0.69   \n",
       "2                       0.0                2.44                      0.40   \n",
       "3                       0.0                2.14                      1.26   \n",
       "4                       0.0                2.71                      0.41   \n",
       "\n",
       "   LightActiveDistance  SedentaryActiveDistance  VeryActiveMinutes  \\\n",
       "0                 6.06                      0.0                 25   \n",
       "1                 4.71                      0.0                 21   \n",
       "2                 3.91                      0.0                 30   \n",
       "3                 2.83                      0.0                 29   \n",
       "4                 5.04                      0.0                 36   \n",
       "\n",
       "   FairlyActiveMinutes  LightlyActiveMinutes  SedentaryMinutes  Calories  \n",
       "0                   13                   328               728      1985  \n",
       "1                   19                   217               776      1797  \n",
       "2                   11                   181              1218      1776  \n",
       "3                   34                   209               726      1745  \n",
       "4                   10                   221               773      1863  "
      ]
     },
     "execution_count": 11,
     "metadata": {},
     "output_type": "execute_result"
    }
   ],
   "source": [
    "df.head(5)"
   ]
  },
  {
   "cell_type": "markdown",
   "id": "8ded9952",
   "metadata": {
    "papermill": {
     "duration": 0.016008,
     "end_time": "2024-08-21T23:03:36.119098",
     "exception": false,
     "start_time": "2024-08-21T23:03:36.103090",
     "status": "completed"
    },
    "tags": []
   },
   "source": [
    "*Checking for **null** or duplicated values*"
   ]
  },
  {
   "cell_type": "code",
   "execution_count": 12,
   "id": "23901c5c",
   "metadata": {
    "execution": {
     "iopub.execute_input": "2024-08-21T23:03:36.152430Z",
     "iopub.status.busy": "2024-08-21T23:03:36.152028Z",
     "iopub.status.idle": "2024-08-21T23:03:36.161680Z",
     "shell.execute_reply": "2024-08-21T23:03:36.160556Z"
    },
    "papermill": {
     "duration": 0.029056,
     "end_time": "2024-08-21T23:03:36.164098",
     "exception": false,
     "start_time": "2024-08-21T23:03:36.135042",
     "status": "completed"
    },
    "tags": []
   },
   "outputs": [
    {
     "data": {
      "text/plain": [
       "Id                          0\n",
       "Date                        0\n",
       "TotalSteps                  0\n",
       "TotalDistance               0\n",
       "TrackerDistance             0\n",
       "LoggedActivitiesDistance    0\n",
       "VeryActiveDistance          0\n",
       "ModeratelyActiveDistance    0\n",
       "LightActiveDistance         0\n",
       "SedentaryActiveDistance     0\n",
       "VeryActiveMinutes           0\n",
       "FairlyActiveMinutes         0\n",
       "LightlyActiveMinutes        0\n",
       "SedentaryMinutes            0\n",
       "Calories                    0\n",
       "dtype: int64"
      ]
     },
     "execution_count": 12,
     "metadata": {},
     "output_type": "execute_result"
    }
   ],
   "source": [
    "df.isna().sum()"
   ]
  },
  {
   "cell_type": "code",
   "execution_count": 13,
   "id": "84c29730",
   "metadata": {
    "execution": {
     "iopub.execute_input": "2024-08-21T23:03:36.197992Z",
     "iopub.status.busy": "2024-08-21T23:03:36.197556Z",
     "iopub.status.idle": "2024-08-21T23:03:36.209451Z",
     "shell.execute_reply": "2024-08-21T23:03:36.208259Z"
    },
    "papermill": {
     "duration": 0.031763,
     "end_time": "2024-08-21T23:03:36.211947",
     "exception": false,
     "start_time": "2024-08-21T23:03:36.180184",
     "status": "completed"
    },
    "tags": []
   },
   "outputs": [
    {
     "data": {
      "text/plain": [
       "0"
      ]
     },
     "execution_count": 13,
     "metadata": {},
     "output_type": "execute_result"
    }
   ],
   "source": [
    "df.duplicated().sum()"
   ]
  },
  {
   "cell_type": "markdown",
   "id": "87fcbfc3",
   "metadata": {
    "papermill": {
     "duration": 0.015761,
     "end_time": "2024-08-21T23:03:36.243769",
     "exception": false,
     "start_time": "2024-08-21T23:03:36.228008",
     "status": "completed"
    },
    "tags": []
   },
   "source": [
    "------------------------------------------------------------------------------------------------------------------------"
   ]
  },
  {
   "cell_type": "markdown",
   "id": "326f230f",
   "metadata": {
    "papermill": {
     "duration": 0.016592,
     "end_time": "2024-08-21T23:03:36.277390",
     "exception": false,
     "start_time": "2024-08-21T23:03:36.260798",
     "status": "completed"
    },
    "tags": []
   },
   "source": [
    "# Now let's select our data for **Analysis**"
   ]
  },
  {
   "cell_type": "markdown",
   "id": "cd6ee79c",
   "metadata": {
    "papermill": {
     "duration": 0.015812,
     "end_time": "2024-08-21T23:03:36.309659",
     "exception": false,
     "start_time": "2024-08-21T23:03:36.293847",
     "status": "completed"
    },
    "tags": []
   },
   "source": [
    "I think we can start discovering if there is some correlation between activities and calories, so let's select the columns that give us enough data for that."
   ]
  },
  {
   "cell_type": "code",
   "execution_count": 14,
   "id": "f5b811b9",
   "metadata": {
    "execution": {
     "iopub.execute_input": "2024-08-21T23:03:36.345482Z",
     "iopub.status.busy": "2024-08-21T23:03:36.344440Z",
     "iopub.status.idle": "2024-08-21T23:03:36.353699Z",
     "shell.execute_reply": "2024-08-21T23:03:36.352613Z"
    },
    "papermill": {
     "duration": 0.028863,
     "end_time": "2024-08-21T23:03:36.355873",
     "exception": false,
     "start_time": "2024-08-21T23:03:36.327010",
     "status": "completed"
    },
    "tags": []
   },
   "outputs": [],
   "source": [
    "df = df[['Id', 'Date', 'TotalSteps', 'TotalDistance', 'VeryActiveMinutes', 'FairlyActiveMinutes',\n",
    "       'LightlyActiveMinutes', 'SedentaryMinutes', 'Calories']].copy()"
   ]
  },
  {
   "cell_type": "code",
   "execution_count": 15,
   "id": "3a152235",
   "metadata": {
    "execution": {
     "iopub.execute_input": "2024-08-21T23:03:36.390381Z",
     "iopub.status.busy": "2024-08-21T23:03:36.389312Z",
     "iopub.status.idle": "2024-08-21T23:03:36.407314Z",
     "shell.execute_reply": "2024-08-21T23:03:36.406249Z"
    },
    "papermill": {
     "duration": 0.037622,
     "end_time": "2024-08-21T23:03:36.409713",
     "exception": false,
     "start_time": "2024-08-21T23:03:36.372091",
     "status": "completed"
    },
    "tags": []
   },
   "outputs": [
    {
     "data": {
      "text/html": [
       "<div>\n",
       "<style scoped>\n",
       "    .dataframe tbody tr th:only-of-type {\n",
       "        vertical-align: middle;\n",
       "    }\n",
       "\n",
       "    .dataframe tbody tr th {\n",
       "        vertical-align: top;\n",
       "    }\n",
       "\n",
       "    .dataframe thead th {\n",
       "        text-align: right;\n",
       "    }\n",
       "</style>\n",
       "<table border=\"1\" class=\"dataframe\">\n",
       "  <thead>\n",
       "    <tr style=\"text-align: right;\">\n",
       "      <th></th>\n",
       "      <th>Id</th>\n",
       "      <th>Date</th>\n",
       "      <th>TotalSteps</th>\n",
       "      <th>TotalDistance</th>\n",
       "      <th>VeryActiveMinutes</th>\n",
       "      <th>FairlyActiveMinutes</th>\n",
       "      <th>LightlyActiveMinutes</th>\n",
       "      <th>SedentaryMinutes</th>\n",
       "      <th>Calories</th>\n",
       "    </tr>\n",
       "  </thead>\n",
       "  <tbody>\n",
       "    <tr>\n",
       "      <th>0</th>\n",
       "      <td>1503960366</td>\n",
       "      <td>2016-04-12</td>\n",
       "      <td>13162</td>\n",
       "      <td>8.50</td>\n",
       "      <td>25</td>\n",
       "      <td>13</td>\n",
       "      <td>328</td>\n",
       "      <td>728</td>\n",
       "      <td>1985</td>\n",
       "    </tr>\n",
       "    <tr>\n",
       "      <th>1</th>\n",
       "      <td>1503960366</td>\n",
       "      <td>2016-04-13</td>\n",
       "      <td>10735</td>\n",
       "      <td>6.97</td>\n",
       "      <td>21</td>\n",
       "      <td>19</td>\n",
       "      <td>217</td>\n",
       "      <td>776</td>\n",
       "      <td>1797</td>\n",
       "    </tr>\n",
       "    <tr>\n",
       "      <th>2</th>\n",
       "      <td>1503960366</td>\n",
       "      <td>2016-04-14</td>\n",
       "      <td>10460</td>\n",
       "      <td>6.74</td>\n",
       "      <td>30</td>\n",
       "      <td>11</td>\n",
       "      <td>181</td>\n",
       "      <td>1218</td>\n",
       "      <td>1776</td>\n",
       "    </tr>\n",
       "    <tr>\n",
       "      <th>3</th>\n",
       "      <td>1503960366</td>\n",
       "      <td>2016-04-15</td>\n",
       "      <td>9762</td>\n",
       "      <td>6.28</td>\n",
       "      <td>29</td>\n",
       "      <td>34</td>\n",
       "      <td>209</td>\n",
       "      <td>726</td>\n",
       "      <td>1745</td>\n",
       "    </tr>\n",
       "    <tr>\n",
       "      <th>4</th>\n",
       "      <td>1503960366</td>\n",
       "      <td>2016-04-16</td>\n",
       "      <td>12669</td>\n",
       "      <td>8.16</td>\n",
       "      <td>36</td>\n",
       "      <td>10</td>\n",
       "      <td>221</td>\n",
       "      <td>773</td>\n",
       "      <td>1863</td>\n",
       "    </tr>\n",
       "    <tr>\n",
       "      <th>...</th>\n",
       "      <td>...</td>\n",
       "      <td>...</td>\n",
       "      <td>...</td>\n",
       "      <td>...</td>\n",
       "      <td>...</td>\n",
       "      <td>...</td>\n",
       "      <td>...</td>\n",
       "      <td>...</td>\n",
       "      <td>...</td>\n",
       "    </tr>\n",
       "    <tr>\n",
       "      <th>95</th>\n",
       "      <td>1844505072</td>\n",
       "      <td>2016-04-15</td>\n",
       "      <td>3844</td>\n",
       "      <td>2.54</td>\n",
       "      <td>0</td>\n",
       "      <td>0</td>\n",
       "      <td>176</td>\n",
       "      <td>527</td>\n",
       "      <td>1725</td>\n",
       "    </tr>\n",
       "    <tr>\n",
       "      <th>96</th>\n",
       "      <td>1844505072</td>\n",
       "      <td>2016-04-16</td>\n",
       "      <td>3414</td>\n",
       "      <td>2.26</td>\n",
       "      <td>0</td>\n",
       "      <td>0</td>\n",
       "      <td>147</td>\n",
       "      <td>1293</td>\n",
       "      <td>1657</td>\n",
       "    </tr>\n",
       "    <tr>\n",
       "      <th>97</th>\n",
       "      <td>1844505072</td>\n",
       "      <td>2016-04-17</td>\n",
       "      <td>4525</td>\n",
       "      <td>2.99</td>\n",
       "      <td>2</td>\n",
       "      <td>8</td>\n",
       "      <td>199</td>\n",
       "      <td>1231</td>\n",
       "      <td>1793</td>\n",
       "    </tr>\n",
       "    <tr>\n",
       "      <th>98</th>\n",
       "      <td>1844505072</td>\n",
       "      <td>2016-04-18</td>\n",
       "      <td>4597</td>\n",
       "      <td>3.04</td>\n",
       "      <td>0</td>\n",
       "      <td>12</td>\n",
       "      <td>217</td>\n",
       "      <td>1211</td>\n",
       "      <td>1814</td>\n",
       "    </tr>\n",
       "    <tr>\n",
       "      <th>99</th>\n",
       "      <td>1844505072</td>\n",
       "      <td>2016-04-19</td>\n",
       "      <td>197</td>\n",
       "      <td>0.13</td>\n",
       "      <td>0</td>\n",
       "      <td>0</td>\n",
       "      <td>10</td>\n",
       "      <td>1430</td>\n",
       "      <td>1366</td>\n",
       "    </tr>\n",
       "  </tbody>\n",
       "</table>\n",
       "<p>100 rows × 9 columns</p>\n",
       "</div>"
      ],
      "text/plain": [
       "            Id       Date  TotalSteps  TotalDistance  VeryActiveMinutes  \\\n",
       "0   1503960366 2016-04-12       13162           8.50                 25   \n",
       "1   1503960366 2016-04-13       10735           6.97                 21   \n",
       "2   1503960366 2016-04-14       10460           6.74                 30   \n",
       "3   1503960366 2016-04-15        9762           6.28                 29   \n",
       "4   1503960366 2016-04-16       12669           8.16                 36   \n",
       "..         ...        ...         ...            ...                ...   \n",
       "95  1844505072 2016-04-15        3844           2.54                  0   \n",
       "96  1844505072 2016-04-16        3414           2.26                  0   \n",
       "97  1844505072 2016-04-17        4525           2.99                  2   \n",
       "98  1844505072 2016-04-18        4597           3.04                  0   \n",
       "99  1844505072 2016-04-19         197           0.13                  0   \n",
       "\n",
       "    FairlyActiveMinutes  LightlyActiveMinutes  SedentaryMinutes  Calories  \n",
       "0                    13                   328               728      1985  \n",
       "1                    19                   217               776      1797  \n",
       "2                    11                   181              1218      1776  \n",
       "3                    34                   209               726      1745  \n",
       "4                    10                   221               773      1863  \n",
       "..                  ...                   ...               ...       ...  \n",
       "95                    0                   176               527      1725  \n",
       "96                    0                   147              1293      1657  \n",
       "97                    8                   199              1231      1793  \n",
       "98                   12                   217              1211      1814  \n",
       "99                    0                    10              1430      1366  \n",
       "\n",
       "[100 rows x 9 columns]"
      ]
     },
     "execution_count": 15,
     "metadata": {},
     "output_type": "execute_result"
    }
   ],
   "source": [
    "df.head(100)"
   ]
  },
  {
   "cell_type": "code",
   "execution_count": 16,
   "id": "f27daf9f",
   "metadata": {
    "execution": {
     "iopub.execute_input": "2024-08-21T23:03:36.444223Z",
     "iopub.status.busy": "2024-08-21T23:03:36.443829Z",
     "iopub.status.idle": "2024-08-21T23:03:36.476279Z",
     "shell.execute_reply": "2024-08-21T23:03:36.475240Z"
    },
    "papermill": {
     "duration": 0.052467,
     "end_time": "2024-08-21T23:03:36.478633",
     "exception": false,
     "start_time": "2024-08-21T23:03:36.426166",
     "status": "completed"
    },
    "tags": []
   },
   "outputs": [
    {
     "data": {
      "text/html": [
       "<div>\n",
       "<style scoped>\n",
       "    .dataframe tbody tr th:only-of-type {\n",
       "        vertical-align: middle;\n",
       "    }\n",
       "\n",
       "    .dataframe tbody tr th {\n",
       "        vertical-align: top;\n",
       "    }\n",
       "\n",
       "    .dataframe thead th {\n",
       "        text-align: right;\n",
       "    }\n",
       "</style>\n",
       "<table border=\"1\" class=\"dataframe\">\n",
       "  <thead>\n",
       "    <tr style=\"text-align: right;\">\n",
       "      <th></th>\n",
       "      <th>Date</th>\n",
       "      <th>TotalSteps</th>\n",
       "      <th>TotalDistance</th>\n",
       "      <th>VeryActiveMinutes</th>\n",
       "      <th>FairlyActiveMinutes</th>\n",
       "      <th>LightlyActiveMinutes</th>\n",
       "      <th>SedentaryMinutes</th>\n",
       "      <th>Calories</th>\n",
       "    </tr>\n",
       "  </thead>\n",
       "  <tbody>\n",
       "    <tr>\n",
       "      <th>count</th>\n",
       "      <td>940</td>\n",
       "      <td>940.000000</td>\n",
       "      <td>940.000000</td>\n",
       "      <td>940.000000</td>\n",
       "      <td>940.000000</td>\n",
       "      <td>940.000000</td>\n",
       "      <td>940.000000</td>\n",
       "      <td>940.000000</td>\n",
       "    </tr>\n",
       "    <tr>\n",
       "      <th>mean</th>\n",
       "      <td>2016-04-26 06:53:37.021276672</td>\n",
       "      <td>7637.910638</td>\n",
       "      <td>5.489702</td>\n",
       "      <td>21.164894</td>\n",
       "      <td>13.564894</td>\n",
       "      <td>192.812766</td>\n",
       "      <td>991.210638</td>\n",
       "      <td>2303.609574</td>\n",
       "    </tr>\n",
       "    <tr>\n",
       "      <th>min</th>\n",
       "      <td>2016-04-12 00:00:00</td>\n",
       "      <td>0.000000</td>\n",
       "      <td>0.000000</td>\n",
       "      <td>0.000000</td>\n",
       "      <td>0.000000</td>\n",
       "      <td>0.000000</td>\n",
       "      <td>0.000000</td>\n",
       "      <td>0.000000</td>\n",
       "    </tr>\n",
       "    <tr>\n",
       "      <th>25%</th>\n",
       "      <td>2016-04-19 00:00:00</td>\n",
       "      <td>3789.750000</td>\n",
       "      <td>2.620000</td>\n",
       "      <td>0.000000</td>\n",
       "      <td>0.000000</td>\n",
       "      <td>127.000000</td>\n",
       "      <td>729.750000</td>\n",
       "      <td>1828.500000</td>\n",
       "    </tr>\n",
       "    <tr>\n",
       "      <th>50%</th>\n",
       "      <td>2016-04-26 00:00:00</td>\n",
       "      <td>7405.500000</td>\n",
       "      <td>5.245000</td>\n",
       "      <td>4.000000</td>\n",
       "      <td>6.000000</td>\n",
       "      <td>199.000000</td>\n",
       "      <td>1057.500000</td>\n",
       "      <td>2134.000000</td>\n",
       "    </tr>\n",
       "    <tr>\n",
       "      <th>75%</th>\n",
       "      <td>2016-05-04 00:00:00</td>\n",
       "      <td>10727.000000</td>\n",
       "      <td>7.712500</td>\n",
       "      <td>32.000000</td>\n",
       "      <td>19.000000</td>\n",
       "      <td>264.000000</td>\n",
       "      <td>1229.500000</td>\n",
       "      <td>2793.250000</td>\n",
       "    </tr>\n",
       "    <tr>\n",
       "      <th>max</th>\n",
       "      <td>2016-05-12 00:00:00</td>\n",
       "      <td>36019.000000</td>\n",
       "      <td>28.030001</td>\n",
       "      <td>210.000000</td>\n",
       "      <td>143.000000</td>\n",
       "      <td>518.000000</td>\n",
       "      <td>1440.000000</td>\n",
       "      <td>4900.000000</td>\n",
       "    </tr>\n",
       "    <tr>\n",
       "      <th>std</th>\n",
       "      <td>NaN</td>\n",
       "      <td>5087.150742</td>\n",
       "      <td>3.924606</td>\n",
       "      <td>32.844803</td>\n",
       "      <td>19.987404</td>\n",
       "      <td>109.174700</td>\n",
       "      <td>301.267437</td>\n",
       "      <td>718.166862</td>\n",
       "    </tr>\n",
       "  </tbody>\n",
       "</table>\n",
       "</div>"
      ],
      "text/plain": [
       "                                Date    TotalSteps  TotalDistance  \\\n",
       "count                            940    940.000000     940.000000   \n",
       "mean   2016-04-26 06:53:37.021276672   7637.910638       5.489702   \n",
       "min              2016-04-12 00:00:00      0.000000       0.000000   \n",
       "25%              2016-04-19 00:00:00   3789.750000       2.620000   \n",
       "50%              2016-04-26 00:00:00   7405.500000       5.245000   \n",
       "75%              2016-05-04 00:00:00  10727.000000       7.712500   \n",
       "max              2016-05-12 00:00:00  36019.000000      28.030001   \n",
       "std                              NaN   5087.150742       3.924606   \n",
       "\n",
       "       VeryActiveMinutes  FairlyActiveMinutes  LightlyActiveMinutes  \\\n",
       "count         940.000000           940.000000            940.000000   \n",
       "mean           21.164894            13.564894            192.812766   \n",
       "min             0.000000             0.000000              0.000000   \n",
       "25%             0.000000             0.000000            127.000000   \n",
       "50%             4.000000             6.000000            199.000000   \n",
       "75%            32.000000            19.000000            264.000000   \n",
       "max           210.000000           143.000000            518.000000   \n",
       "std            32.844803            19.987404            109.174700   \n",
       "\n",
       "       SedentaryMinutes     Calories  \n",
       "count        940.000000   940.000000  \n",
       "mean         991.210638  2303.609574  \n",
       "min            0.000000     0.000000  \n",
       "25%          729.750000  1828.500000  \n",
       "50%         1057.500000  2134.000000  \n",
       "75%         1229.500000  2793.250000  \n",
       "max         1440.000000  4900.000000  \n",
       "std          301.267437   718.166862  "
      ]
     },
     "execution_count": 16,
     "metadata": {},
     "output_type": "execute_result"
    }
   ],
   "source": [
    "df.describe()"
   ]
  },
  {
   "cell_type": "markdown",
   "id": "14e307eb",
   "metadata": {
    "papermill": {
     "duration": 0.01656,
     "end_time": "2024-08-21T23:03:36.511965",
     "exception": false,
     "start_time": "2024-08-21T23:03:36.495405",
     "status": "completed"
    },
    "tags": []
   },
   "source": [
    "Let's find out how many different *Id*s, and *Date*s we have"
   ]
  },
  {
   "cell_type": "code",
   "execution_count": 17,
   "id": "a824f001",
   "metadata": {
    "execution": {
     "iopub.execute_input": "2024-08-21T23:03:36.549411Z",
     "iopub.status.busy": "2024-08-21T23:03:36.548372Z",
     "iopub.status.idle": "2024-08-21T23:03:36.556537Z",
     "shell.execute_reply": "2024-08-21T23:03:36.555471Z"
    },
    "papermill": {
     "duration": 0.028404,
     "end_time": "2024-08-21T23:03:36.558772",
     "exception": false,
     "start_time": "2024-08-21T23:03:36.530368",
     "status": "completed"
    },
    "tags": []
   },
   "outputs": [
    {
     "data": {
      "text/plain": [
       "33"
      ]
     },
     "execution_count": 17,
     "metadata": {},
     "output_type": "execute_result"
    }
   ],
   "source": [
    "df['Id'].nunique()"
   ]
  },
  {
   "cell_type": "code",
   "execution_count": 18,
   "id": "dabcf50e",
   "metadata": {
    "execution": {
     "iopub.execute_input": "2024-08-21T23:03:36.647605Z",
     "iopub.status.busy": "2024-08-21T23:03:36.647146Z",
     "iopub.status.idle": "2024-08-21T23:03:36.656105Z",
     "shell.execute_reply": "2024-08-21T23:03:36.655002Z"
    },
    "papermill": {
     "duration": 0.082274,
     "end_time": "2024-08-21T23:03:36.658329",
     "exception": false,
     "start_time": "2024-08-21T23:03:36.576055",
     "status": "completed"
    },
    "tags": []
   },
   "outputs": [
    {
     "data": {
      "text/plain": [
       "31"
      ]
     },
     "execution_count": 18,
     "metadata": {},
     "output_type": "execute_result"
    }
   ],
   "source": [
    "df['Date'].nunique()"
   ]
  },
  {
   "cell_type": "markdown",
   "id": "4d0a8ffc",
   "metadata": {
    "papermill": {
     "duration": 0.017312,
     "end_time": "2024-08-21T23:03:36.692685",
     "exception": false,
     "start_time": "2024-08-21T23:03:36.675373",
     "status": "completed"
    },
    "tags": []
   },
   "source": [
    "Should be good to know the specific **day of week** that corresponds to each *date* data, so we can investigate some trends."
   ]
  },
  {
   "cell_type": "code",
   "execution_count": 19,
   "id": "38d24b8b",
   "metadata": {
    "execution": {
     "iopub.execute_input": "2024-08-21T23:03:36.728696Z",
     "iopub.status.busy": "2024-08-21T23:03:36.728273Z",
     "iopub.status.idle": "2024-08-21T23:03:36.746901Z",
     "shell.execute_reply": "2024-08-21T23:03:36.745746Z"
    },
    "papermill": {
     "duration": 0.03936,
     "end_time": "2024-08-21T23:03:36.749148",
     "exception": false,
     "start_time": "2024-08-21T23:03:36.709788",
     "status": "completed"
    },
    "tags": []
   },
   "outputs": [
    {
     "data": {
      "text/html": [
       "<div>\n",
       "<style scoped>\n",
       "    .dataframe tbody tr th:only-of-type {\n",
       "        vertical-align: middle;\n",
       "    }\n",
       "\n",
       "    .dataframe tbody tr th {\n",
       "        vertical-align: top;\n",
       "    }\n",
       "\n",
       "    .dataframe thead th {\n",
       "        text-align: right;\n",
       "    }\n",
       "</style>\n",
       "<table border=\"1\" class=\"dataframe\">\n",
       "  <thead>\n",
       "    <tr style=\"text-align: right;\">\n",
       "      <th></th>\n",
       "      <th>Id</th>\n",
       "      <th>Date</th>\n",
       "      <th>TotalSteps</th>\n",
       "      <th>TotalDistance</th>\n",
       "      <th>VeryActiveMinutes</th>\n",
       "      <th>FairlyActiveMinutes</th>\n",
       "      <th>LightlyActiveMinutes</th>\n",
       "      <th>SedentaryMinutes</th>\n",
       "      <th>Calories</th>\n",
       "      <th>DayOfWeek</th>\n",
       "    </tr>\n",
       "  </thead>\n",
       "  <tbody>\n",
       "    <tr>\n",
       "      <th>0</th>\n",
       "      <td>1503960366</td>\n",
       "      <td>2016-04-12</td>\n",
       "      <td>13162</td>\n",
       "      <td>8.500000</td>\n",
       "      <td>25</td>\n",
       "      <td>13</td>\n",
       "      <td>328</td>\n",
       "      <td>728</td>\n",
       "      <td>1985</td>\n",
       "      <td>Tuesday</td>\n",
       "    </tr>\n",
       "    <tr>\n",
       "      <th>1</th>\n",
       "      <td>1503960366</td>\n",
       "      <td>2016-04-13</td>\n",
       "      <td>10735</td>\n",
       "      <td>6.970000</td>\n",
       "      <td>21</td>\n",
       "      <td>19</td>\n",
       "      <td>217</td>\n",
       "      <td>776</td>\n",
       "      <td>1797</td>\n",
       "      <td>Wednesday</td>\n",
       "    </tr>\n",
       "    <tr>\n",
       "      <th>2</th>\n",
       "      <td>1503960366</td>\n",
       "      <td>2016-04-14</td>\n",
       "      <td>10460</td>\n",
       "      <td>6.740000</td>\n",
       "      <td>30</td>\n",
       "      <td>11</td>\n",
       "      <td>181</td>\n",
       "      <td>1218</td>\n",
       "      <td>1776</td>\n",
       "      <td>Thursday</td>\n",
       "    </tr>\n",
       "    <tr>\n",
       "      <th>3</th>\n",
       "      <td>1503960366</td>\n",
       "      <td>2016-04-15</td>\n",
       "      <td>9762</td>\n",
       "      <td>6.280000</td>\n",
       "      <td>29</td>\n",
       "      <td>34</td>\n",
       "      <td>209</td>\n",
       "      <td>726</td>\n",
       "      <td>1745</td>\n",
       "      <td>Friday</td>\n",
       "    </tr>\n",
       "    <tr>\n",
       "      <th>4</th>\n",
       "      <td>1503960366</td>\n",
       "      <td>2016-04-16</td>\n",
       "      <td>12669</td>\n",
       "      <td>8.160000</td>\n",
       "      <td>36</td>\n",
       "      <td>10</td>\n",
       "      <td>221</td>\n",
       "      <td>773</td>\n",
       "      <td>1863</td>\n",
       "      <td>Saturday</td>\n",
       "    </tr>\n",
       "    <tr>\n",
       "      <th>...</th>\n",
       "      <td>...</td>\n",
       "      <td>...</td>\n",
       "      <td>...</td>\n",
       "      <td>...</td>\n",
       "      <td>...</td>\n",
       "      <td>...</td>\n",
       "      <td>...</td>\n",
       "      <td>...</td>\n",
       "      <td>...</td>\n",
       "      <td>...</td>\n",
       "    </tr>\n",
       "    <tr>\n",
       "      <th>935</th>\n",
       "      <td>8877689391</td>\n",
       "      <td>2016-05-08</td>\n",
       "      <td>10686</td>\n",
       "      <td>8.110000</td>\n",
       "      <td>17</td>\n",
       "      <td>4</td>\n",
       "      <td>245</td>\n",
       "      <td>1174</td>\n",
       "      <td>2847</td>\n",
       "      <td>Sunday</td>\n",
       "    </tr>\n",
       "    <tr>\n",
       "      <th>936</th>\n",
       "      <td>8877689391</td>\n",
       "      <td>2016-05-09</td>\n",
       "      <td>20226</td>\n",
       "      <td>18.250000</td>\n",
       "      <td>73</td>\n",
       "      <td>19</td>\n",
       "      <td>217</td>\n",
       "      <td>1131</td>\n",
       "      <td>3710</td>\n",
       "      <td>Monday</td>\n",
       "    </tr>\n",
       "    <tr>\n",
       "      <th>937</th>\n",
       "      <td>8877689391</td>\n",
       "      <td>2016-05-10</td>\n",
       "      <td>10733</td>\n",
       "      <td>8.150000</td>\n",
       "      <td>18</td>\n",
       "      <td>11</td>\n",
       "      <td>224</td>\n",
       "      <td>1187</td>\n",
       "      <td>2832</td>\n",
       "      <td>Tuesday</td>\n",
       "    </tr>\n",
       "    <tr>\n",
       "      <th>938</th>\n",
       "      <td>8877689391</td>\n",
       "      <td>2016-05-11</td>\n",
       "      <td>21420</td>\n",
       "      <td>19.559999</td>\n",
       "      <td>88</td>\n",
       "      <td>12</td>\n",
       "      <td>213</td>\n",
       "      <td>1127</td>\n",
       "      <td>3832</td>\n",
       "      <td>Wednesday</td>\n",
       "    </tr>\n",
       "    <tr>\n",
       "      <th>939</th>\n",
       "      <td>8877689391</td>\n",
       "      <td>2016-05-12</td>\n",
       "      <td>8064</td>\n",
       "      <td>6.120000</td>\n",
       "      <td>23</td>\n",
       "      <td>1</td>\n",
       "      <td>137</td>\n",
       "      <td>770</td>\n",
       "      <td>1849</td>\n",
       "      <td>Thursday</td>\n",
       "    </tr>\n",
       "  </tbody>\n",
       "</table>\n",
       "<p>940 rows × 10 columns</p>\n",
       "</div>"
      ],
      "text/plain": [
       "             Id       Date  TotalSteps  TotalDistance  VeryActiveMinutes  \\\n",
       "0    1503960366 2016-04-12       13162       8.500000                 25   \n",
       "1    1503960366 2016-04-13       10735       6.970000                 21   \n",
       "2    1503960366 2016-04-14       10460       6.740000                 30   \n",
       "3    1503960366 2016-04-15        9762       6.280000                 29   \n",
       "4    1503960366 2016-04-16       12669       8.160000                 36   \n",
       "..          ...        ...         ...            ...                ...   \n",
       "935  8877689391 2016-05-08       10686       8.110000                 17   \n",
       "936  8877689391 2016-05-09       20226      18.250000                 73   \n",
       "937  8877689391 2016-05-10       10733       8.150000                 18   \n",
       "938  8877689391 2016-05-11       21420      19.559999                 88   \n",
       "939  8877689391 2016-05-12        8064       6.120000                 23   \n",
       "\n",
       "     FairlyActiveMinutes  LightlyActiveMinutes  SedentaryMinutes  Calories  \\\n",
       "0                     13                   328               728      1985   \n",
       "1                     19                   217               776      1797   \n",
       "2                     11                   181              1218      1776   \n",
       "3                     34                   209               726      1745   \n",
       "4                     10                   221               773      1863   \n",
       "..                   ...                   ...               ...       ...   \n",
       "935                    4                   245              1174      2847   \n",
       "936                   19                   217              1131      3710   \n",
       "937                   11                   224              1187      2832   \n",
       "938                   12                   213              1127      3832   \n",
       "939                    1                   137               770      1849   \n",
       "\n",
       "     DayOfWeek  \n",
       "0      Tuesday  \n",
       "1    Wednesday  \n",
       "2     Thursday  \n",
       "3       Friday  \n",
       "4     Saturday  \n",
       "..         ...  \n",
       "935     Sunday  \n",
       "936     Monday  \n",
       "937    Tuesday  \n",
       "938  Wednesday  \n",
       "939   Thursday  \n",
       "\n",
       "[940 rows x 10 columns]"
      ]
     },
     "execution_count": 19,
     "metadata": {},
     "output_type": "execute_result"
    }
   ],
   "source": [
    "#adding day of week column to the df\n",
    "df['DayOfWeek'] = df.Date.dt.day_name()\n",
    "df"
   ]
  },
  {
   "cell_type": "markdown",
   "id": "f8fb495b",
   "metadata": {
    "papermill": {
     "duration": 0.017528,
     "end_time": "2024-08-21T23:03:36.784051",
     "exception": false,
     "start_time": "2024-08-21T23:03:36.766523",
     "status": "completed"
    },
    "tags": []
   },
   "source": [
    "We have a **Daily Sleep** data, so let's check it"
   ]
  },
  {
   "cell_type": "code",
   "execution_count": 20,
   "id": "cb422368",
   "metadata": {
    "execution": {
     "iopub.execute_input": "2024-08-21T23:03:36.820358Z",
     "iopub.status.busy": "2024-08-21T23:03:36.819957Z",
     "iopub.status.idle": "2024-08-21T23:03:36.832236Z",
     "shell.execute_reply": "2024-08-21T23:03:36.830923Z"
    },
    "papermill": {
     "duration": 0.033692,
     "end_time": "2024-08-21T23:03:36.834969",
     "exception": false,
     "start_time": "2024-08-21T23:03:36.801277",
     "status": "completed"
    },
    "tags": []
   },
   "outputs": [],
   "source": [
    "sleep_df = pd.read_csv('/kaggle/input/fitbit/mturkfitbit_export_4.12.16-5.12.16/Fitabase Data 4.12.16-5.12.16/sleepDay_merged.csv')"
   ]
  },
  {
   "cell_type": "code",
   "execution_count": 21,
   "id": "2698892c",
   "metadata": {
    "execution": {
     "iopub.execute_input": "2024-08-21T23:03:36.871996Z",
     "iopub.status.busy": "2024-08-21T23:03:36.871582Z",
     "iopub.status.idle": "2024-08-21T23:03:36.878746Z",
     "shell.execute_reply": "2024-08-21T23:03:36.877621Z"
    },
    "papermill": {
     "duration": 0.028216,
     "end_time": "2024-08-21T23:03:36.880985",
     "exception": false,
     "start_time": "2024-08-21T23:03:36.852769",
     "status": "completed"
    },
    "tags": []
   },
   "outputs": [
    {
     "data": {
      "text/plain": [
       "(413, 5)"
      ]
     },
     "execution_count": 21,
     "metadata": {},
     "output_type": "execute_result"
    }
   ],
   "source": [
    "sleep_df.shape"
   ]
  },
  {
   "cell_type": "code",
   "execution_count": 22,
   "id": "eed009ab",
   "metadata": {
    "execution": {
     "iopub.execute_input": "2024-08-21T23:03:36.918706Z",
     "iopub.status.busy": "2024-08-21T23:03:36.918204Z",
     "iopub.status.idle": "2024-08-21T23:03:36.926394Z",
     "shell.execute_reply": "2024-08-21T23:03:36.925210Z"
    },
    "papermill": {
     "duration": 0.03063,
     "end_time": "2024-08-21T23:03:36.929022",
     "exception": false,
     "start_time": "2024-08-21T23:03:36.898392",
     "status": "completed"
    },
    "tags": []
   },
   "outputs": [
    {
     "data": {
      "text/plain": [
       "24"
      ]
     },
     "execution_count": 22,
     "metadata": {},
     "output_type": "execute_result"
    }
   ],
   "source": [
    "sleep_df['Id'].nunique()"
   ]
  },
  {
   "cell_type": "markdown",
   "id": "8e8193b1",
   "metadata": {
    "papermill": {
     "duration": 0.017742,
     "end_time": "2024-08-21T23:03:36.964420",
     "exception": false,
     "start_time": "2024-08-21T23:03:36.946678",
     "status": "completed"
    },
    "tags": []
   },
   "source": [
    "24 people is not really a good amount for analysis, but let's try to work with that."
   ]
  },
  {
   "cell_type": "code",
   "execution_count": 23,
   "id": "859b8548",
   "metadata": {
    "execution": {
     "iopub.execute_input": "2024-08-21T23:03:37.002438Z",
     "iopub.status.busy": "2024-08-21T23:03:37.002012Z",
     "iopub.status.idle": "2024-08-21T23:03:37.015013Z",
     "shell.execute_reply": "2024-08-21T23:03:37.013692Z"
    },
    "papermill": {
     "duration": 0.035397,
     "end_time": "2024-08-21T23:03:37.017345",
     "exception": false,
     "start_time": "2024-08-21T23:03:36.981948",
     "status": "completed"
    },
    "tags": []
   },
   "outputs": [
    {
     "data": {
      "text/html": [
       "<div>\n",
       "<style scoped>\n",
       "    .dataframe tbody tr th:only-of-type {\n",
       "        vertical-align: middle;\n",
       "    }\n",
       "\n",
       "    .dataframe tbody tr th {\n",
       "        vertical-align: top;\n",
       "    }\n",
       "\n",
       "    .dataframe thead th {\n",
       "        text-align: right;\n",
       "    }\n",
       "</style>\n",
       "<table border=\"1\" class=\"dataframe\">\n",
       "  <thead>\n",
       "    <tr style=\"text-align: right;\">\n",
       "      <th></th>\n",
       "      <th>Id</th>\n",
       "      <th>SleepDay</th>\n",
       "      <th>TotalSleepRecords</th>\n",
       "      <th>TotalMinutesAsleep</th>\n",
       "      <th>TotalTimeInBed</th>\n",
       "    </tr>\n",
       "  </thead>\n",
       "  <tbody>\n",
       "    <tr>\n",
       "      <th>0</th>\n",
       "      <td>1503960366</td>\n",
       "      <td>4/12/2016 12:00:00 AM</td>\n",
       "      <td>1</td>\n",
       "      <td>327</td>\n",
       "      <td>346</td>\n",
       "    </tr>\n",
       "    <tr>\n",
       "      <th>1</th>\n",
       "      <td>1503960366</td>\n",
       "      <td>4/13/2016 12:00:00 AM</td>\n",
       "      <td>2</td>\n",
       "      <td>384</td>\n",
       "      <td>407</td>\n",
       "    </tr>\n",
       "    <tr>\n",
       "      <th>2</th>\n",
       "      <td>1503960366</td>\n",
       "      <td>4/15/2016 12:00:00 AM</td>\n",
       "      <td>1</td>\n",
       "      <td>412</td>\n",
       "      <td>442</td>\n",
       "    </tr>\n",
       "    <tr>\n",
       "      <th>3</th>\n",
       "      <td>1503960366</td>\n",
       "      <td>4/16/2016 12:00:00 AM</td>\n",
       "      <td>2</td>\n",
       "      <td>340</td>\n",
       "      <td>367</td>\n",
       "    </tr>\n",
       "    <tr>\n",
       "      <th>4</th>\n",
       "      <td>1503960366</td>\n",
       "      <td>4/17/2016 12:00:00 AM</td>\n",
       "      <td>1</td>\n",
       "      <td>700</td>\n",
       "      <td>712</td>\n",
       "    </tr>\n",
       "    <tr>\n",
       "      <th>5</th>\n",
       "      <td>1503960366</td>\n",
       "      <td>4/19/2016 12:00:00 AM</td>\n",
       "      <td>1</td>\n",
       "      <td>304</td>\n",
       "      <td>320</td>\n",
       "    </tr>\n",
       "    <tr>\n",
       "      <th>6</th>\n",
       "      <td>1503960366</td>\n",
       "      <td>4/20/2016 12:00:00 AM</td>\n",
       "      <td>1</td>\n",
       "      <td>360</td>\n",
       "      <td>377</td>\n",
       "    </tr>\n",
       "    <tr>\n",
       "      <th>7</th>\n",
       "      <td>1503960366</td>\n",
       "      <td>4/21/2016 12:00:00 AM</td>\n",
       "      <td>1</td>\n",
       "      <td>325</td>\n",
       "      <td>364</td>\n",
       "    </tr>\n",
       "    <tr>\n",
       "      <th>8</th>\n",
       "      <td>1503960366</td>\n",
       "      <td>4/23/2016 12:00:00 AM</td>\n",
       "      <td>1</td>\n",
       "      <td>361</td>\n",
       "      <td>384</td>\n",
       "    </tr>\n",
       "    <tr>\n",
       "      <th>9</th>\n",
       "      <td>1503960366</td>\n",
       "      <td>4/24/2016 12:00:00 AM</td>\n",
       "      <td>1</td>\n",
       "      <td>430</td>\n",
       "      <td>449</td>\n",
       "    </tr>\n",
       "  </tbody>\n",
       "</table>\n",
       "</div>"
      ],
      "text/plain": [
       "           Id               SleepDay  TotalSleepRecords  TotalMinutesAsleep  \\\n",
       "0  1503960366  4/12/2016 12:00:00 AM                  1                 327   \n",
       "1  1503960366  4/13/2016 12:00:00 AM                  2                 384   \n",
       "2  1503960366  4/15/2016 12:00:00 AM                  1                 412   \n",
       "3  1503960366  4/16/2016 12:00:00 AM                  2                 340   \n",
       "4  1503960366  4/17/2016 12:00:00 AM                  1                 700   \n",
       "5  1503960366  4/19/2016 12:00:00 AM                  1                 304   \n",
       "6  1503960366  4/20/2016 12:00:00 AM                  1                 360   \n",
       "7  1503960366  4/21/2016 12:00:00 AM                  1                 325   \n",
       "8  1503960366  4/23/2016 12:00:00 AM                  1                 361   \n",
       "9  1503960366  4/24/2016 12:00:00 AM                  1                 430   \n",
       "\n",
       "   TotalTimeInBed  \n",
       "0             346  \n",
       "1             407  \n",
       "2             442  \n",
       "3             367  \n",
       "4             712  \n",
       "5             320  \n",
       "6             377  \n",
       "7             364  \n",
       "8             384  \n",
       "9             449  "
      ]
     },
     "execution_count": 23,
     "metadata": {},
     "output_type": "execute_result"
    }
   ],
   "source": [
    "sleep_df.head(10)"
   ]
  },
  {
   "cell_type": "code",
   "execution_count": 24,
   "id": "849a1fea",
   "metadata": {
    "execution": {
     "iopub.execute_input": "2024-08-21T23:03:37.057090Z",
     "iopub.status.busy": "2024-08-21T23:03:37.056668Z",
     "iopub.status.idle": "2024-08-21T23:03:37.065249Z",
     "shell.execute_reply": "2024-08-21T23:03:37.064198Z"
    },
    "papermill": {
     "duration": 0.030437,
     "end_time": "2024-08-21T23:03:37.067536",
     "exception": false,
     "start_time": "2024-08-21T23:03:37.037099",
     "status": "completed"
    },
    "tags": []
   },
   "outputs": [
    {
     "data": {
      "text/plain": [
       "Id                     int64\n",
       "SleepDay              object\n",
       "TotalSleepRecords      int64\n",
       "TotalMinutesAsleep     int64\n",
       "TotalTimeInBed         int64\n",
       "dtype: object"
      ]
     },
     "execution_count": 24,
     "metadata": {},
     "output_type": "execute_result"
    }
   ],
   "source": [
    "sleep_df.dtypes"
   ]
  },
  {
   "cell_type": "markdown",
   "id": "e3201179",
   "metadata": {
    "papermill": {
     "duration": 0.018343,
     "end_time": "2024-08-21T23:03:37.104314",
     "exception": false,
     "start_time": "2024-08-21T23:03:37.085971",
     "status": "completed"
    },
    "tags": []
   },
   "source": [
    "The *Id* should be a string and *SleepDay* format should be changed as 'date'"
   ]
  },
  {
   "cell_type": "code",
   "execution_count": 25,
   "id": "bb7ebf66",
   "metadata": {
    "execution": {
     "iopub.execute_input": "2024-08-21T23:03:37.142831Z",
     "iopub.status.busy": "2024-08-21T23:03:37.142361Z",
     "iopub.status.idle": "2024-08-21T23:03:37.148467Z",
     "shell.execute_reply": "2024-08-21T23:03:37.147323Z"
    },
    "papermill": {
     "duration": 0.028244,
     "end_time": "2024-08-21T23:03:37.150824",
     "exception": false,
     "start_time": "2024-08-21T23:03:37.122580",
     "status": "completed"
    },
    "tags": []
   },
   "outputs": [],
   "source": [
    "#changing format\n",
    "sleep_df['Id'] = sleep_df['Id'].astype(str)"
   ]
  },
  {
   "cell_type": "code",
   "execution_count": 26,
   "id": "3f5bae63",
   "metadata": {
    "execution": {
     "iopub.execute_input": "2024-08-21T23:03:37.189665Z",
     "iopub.status.busy": "2024-08-21T23:03:37.188450Z",
     "iopub.status.idle": "2024-08-21T23:03:37.197339Z",
     "shell.execute_reply": "2024-08-21T23:03:37.196140Z"
    },
    "papermill": {
     "duration": 0.03069,
     "end_time": "2024-08-21T23:03:37.199641",
     "exception": false,
     "start_time": "2024-08-21T23:03:37.168951",
     "status": "completed"
    },
    "tags": []
   },
   "outputs": [],
   "source": [
    "#changing format\n",
    "sleep_df['SleepDay'] = pd.to_datetime(sleep_df['SleepDay'], format = '%m/%d/%Y %H:%M:%S %p')"
   ]
  },
  {
   "cell_type": "code",
   "execution_count": 27,
   "id": "5a2036e6",
   "metadata": {
    "execution": {
     "iopub.execute_input": "2024-08-21T23:03:37.237361Z",
     "iopub.status.busy": "2024-08-21T23:03:37.236962Z",
     "iopub.status.idle": "2024-08-21T23:03:37.245974Z",
     "shell.execute_reply": "2024-08-21T23:03:37.244703Z"
    },
    "papermill": {
     "duration": 0.030663,
     "end_time": "2024-08-21T23:03:37.248274",
     "exception": false,
     "start_time": "2024-08-21T23:03:37.217611",
     "status": "completed"
    },
    "tags": []
   },
   "outputs": [
    {
     "data": {
      "text/plain": [
       "Id                            object\n",
       "SleepDay              datetime64[ns]\n",
       "TotalSleepRecords              int64\n",
       "TotalMinutesAsleep             int64\n",
       "TotalTimeInBed                 int64\n",
       "dtype: object"
      ]
     },
     "execution_count": 27,
     "metadata": {},
     "output_type": "execute_result"
    }
   ],
   "source": [
    "sleep_df.dtypes"
   ]
  },
  {
   "cell_type": "code",
   "execution_count": 28,
   "id": "82e036ee",
   "metadata": {
    "execution": {
     "iopub.execute_input": "2024-08-21T23:03:37.286505Z",
     "iopub.status.busy": "2024-08-21T23:03:37.286071Z",
     "iopub.status.idle": "2024-08-21T23:03:37.298804Z",
     "shell.execute_reply": "2024-08-21T23:03:37.297682Z"
    },
    "papermill": {
     "duration": 0.034487,
     "end_time": "2024-08-21T23:03:37.301148",
     "exception": false,
     "start_time": "2024-08-21T23:03:37.266661",
     "status": "completed"
    },
    "tags": []
   },
   "outputs": [
    {
     "data": {
      "text/html": [
       "<div>\n",
       "<style scoped>\n",
       "    .dataframe tbody tr th:only-of-type {\n",
       "        vertical-align: middle;\n",
       "    }\n",
       "\n",
       "    .dataframe tbody tr th {\n",
       "        vertical-align: top;\n",
       "    }\n",
       "\n",
       "    .dataframe thead th {\n",
       "        text-align: right;\n",
       "    }\n",
       "</style>\n",
       "<table border=\"1\" class=\"dataframe\">\n",
       "  <thead>\n",
       "    <tr style=\"text-align: right;\">\n",
       "      <th></th>\n",
       "      <th>Id</th>\n",
       "      <th>SleepDay</th>\n",
       "      <th>TotalSleepRecords</th>\n",
       "      <th>TotalMinutesAsleep</th>\n",
       "      <th>TotalTimeInBed</th>\n",
       "    </tr>\n",
       "  </thead>\n",
       "  <tbody>\n",
       "    <tr>\n",
       "      <th>0</th>\n",
       "      <td>1503960366</td>\n",
       "      <td>2016-04-12 12:00:00</td>\n",
       "      <td>1</td>\n",
       "      <td>327</td>\n",
       "      <td>346</td>\n",
       "    </tr>\n",
       "    <tr>\n",
       "      <th>1</th>\n",
       "      <td>1503960366</td>\n",
       "      <td>2016-04-13 12:00:00</td>\n",
       "      <td>2</td>\n",
       "      <td>384</td>\n",
       "      <td>407</td>\n",
       "    </tr>\n",
       "    <tr>\n",
       "      <th>2</th>\n",
       "      <td>1503960366</td>\n",
       "      <td>2016-04-15 12:00:00</td>\n",
       "      <td>1</td>\n",
       "      <td>412</td>\n",
       "      <td>442</td>\n",
       "    </tr>\n",
       "    <tr>\n",
       "      <th>3</th>\n",
       "      <td>1503960366</td>\n",
       "      <td>2016-04-16 12:00:00</td>\n",
       "      <td>2</td>\n",
       "      <td>340</td>\n",
       "      <td>367</td>\n",
       "    </tr>\n",
       "    <tr>\n",
       "      <th>4</th>\n",
       "      <td>1503960366</td>\n",
       "      <td>2016-04-17 12:00:00</td>\n",
       "      <td>1</td>\n",
       "      <td>700</td>\n",
       "      <td>712</td>\n",
       "    </tr>\n",
       "    <tr>\n",
       "      <th>5</th>\n",
       "      <td>1503960366</td>\n",
       "      <td>2016-04-19 12:00:00</td>\n",
       "      <td>1</td>\n",
       "      <td>304</td>\n",
       "      <td>320</td>\n",
       "    </tr>\n",
       "    <tr>\n",
       "      <th>6</th>\n",
       "      <td>1503960366</td>\n",
       "      <td>2016-04-20 12:00:00</td>\n",
       "      <td>1</td>\n",
       "      <td>360</td>\n",
       "      <td>377</td>\n",
       "    </tr>\n",
       "    <tr>\n",
       "      <th>7</th>\n",
       "      <td>1503960366</td>\n",
       "      <td>2016-04-21 12:00:00</td>\n",
       "      <td>1</td>\n",
       "      <td>325</td>\n",
       "      <td>364</td>\n",
       "    </tr>\n",
       "    <tr>\n",
       "      <th>8</th>\n",
       "      <td>1503960366</td>\n",
       "      <td>2016-04-23 12:00:00</td>\n",
       "      <td>1</td>\n",
       "      <td>361</td>\n",
       "      <td>384</td>\n",
       "    </tr>\n",
       "    <tr>\n",
       "      <th>9</th>\n",
       "      <td>1503960366</td>\n",
       "      <td>2016-04-24 12:00:00</td>\n",
       "      <td>1</td>\n",
       "      <td>430</td>\n",
       "      <td>449</td>\n",
       "    </tr>\n",
       "  </tbody>\n",
       "</table>\n",
       "</div>"
      ],
      "text/plain": [
       "           Id            SleepDay  TotalSleepRecords  TotalMinutesAsleep  \\\n",
       "0  1503960366 2016-04-12 12:00:00                  1                 327   \n",
       "1  1503960366 2016-04-13 12:00:00                  2                 384   \n",
       "2  1503960366 2016-04-15 12:00:00                  1                 412   \n",
       "3  1503960366 2016-04-16 12:00:00                  2                 340   \n",
       "4  1503960366 2016-04-17 12:00:00                  1                 700   \n",
       "5  1503960366 2016-04-19 12:00:00                  1                 304   \n",
       "6  1503960366 2016-04-20 12:00:00                  1                 360   \n",
       "7  1503960366 2016-04-21 12:00:00                  1                 325   \n",
       "8  1503960366 2016-04-23 12:00:00                  1                 361   \n",
       "9  1503960366 2016-04-24 12:00:00                  1                 430   \n",
       "\n",
       "   TotalTimeInBed  \n",
       "0             346  \n",
       "1             407  \n",
       "2             442  \n",
       "3             367  \n",
       "4             712  \n",
       "5             320  \n",
       "6             377  \n",
       "7             364  \n",
       "8             384  \n",
       "9             449  "
      ]
     },
     "execution_count": 28,
     "metadata": {},
     "output_type": "execute_result"
    }
   ],
   "source": [
    "sleep_df.head(10)"
   ]
  },
  {
   "cell_type": "code",
   "execution_count": 29,
   "id": "079d0ed2",
   "metadata": {
    "execution": {
     "iopub.execute_input": "2024-08-21T23:03:37.339842Z",
     "iopub.status.busy": "2024-08-21T23:03:37.339372Z",
     "iopub.status.idle": "2024-08-21T23:03:37.345213Z",
     "shell.execute_reply": "2024-08-21T23:03:37.344019Z"
    },
    "papermill": {
     "duration": 0.027933,
     "end_time": "2024-08-21T23:03:37.347475",
     "exception": false,
     "start_time": "2024-08-21T23:03:37.319542",
     "status": "completed"
    },
    "tags": []
   },
   "outputs": [],
   "source": [
    "#renaming the column name to be more easily related to our previous data frame (df)\n",
    "sleep_df.rename(columns={'SleepDay':'Date'},inplace=True)"
   ]
  },
  {
   "cell_type": "code",
   "execution_count": 30,
   "id": "5edd83d0",
   "metadata": {
    "execution": {
     "iopub.execute_input": "2024-08-21T23:03:37.386106Z",
     "iopub.status.busy": "2024-08-21T23:03:37.385698Z",
     "iopub.status.idle": "2024-08-21T23:03:37.401595Z",
     "shell.execute_reply": "2024-08-21T23:03:37.400377Z"
    },
    "papermill": {
     "duration": 0.03809,
     "end_time": "2024-08-21T23:03:37.403968",
     "exception": false,
     "start_time": "2024-08-21T23:03:37.365878",
     "status": "completed"
    },
    "tags": []
   },
   "outputs": [
    {
     "data": {
      "text/html": [
       "<div>\n",
       "<style scoped>\n",
       "    .dataframe tbody tr th:only-of-type {\n",
       "        vertical-align: middle;\n",
       "    }\n",
       "\n",
       "    .dataframe tbody tr th {\n",
       "        vertical-align: top;\n",
       "    }\n",
       "\n",
       "    .dataframe thead th {\n",
       "        text-align: right;\n",
       "    }\n",
       "</style>\n",
       "<table border=\"1\" class=\"dataframe\">\n",
       "  <thead>\n",
       "    <tr style=\"text-align: right;\">\n",
       "      <th></th>\n",
       "      <th>Id</th>\n",
       "      <th>Date</th>\n",
       "      <th>TotalSleepRecords</th>\n",
       "      <th>TotalMinutesAsleep</th>\n",
       "      <th>TotalTimeInBed</th>\n",
       "      <th>DayOfWeek</th>\n",
       "    </tr>\n",
       "  </thead>\n",
       "  <tbody>\n",
       "    <tr>\n",
       "      <th>0</th>\n",
       "      <td>1503960366</td>\n",
       "      <td>2016-04-12 12:00:00</td>\n",
       "      <td>1</td>\n",
       "      <td>327</td>\n",
       "      <td>346</td>\n",
       "      <td>Tuesday</td>\n",
       "    </tr>\n",
       "    <tr>\n",
       "      <th>1</th>\n",
       "      <td>1503960366</td>\n",
       "      <td>2016-04-13 12:00:00</td>\n",
       "      <td>2</td>\n",
       "      <td>384</td>\n",
       "      <td>407</td>\n",
       "      <td>Wednesday</td>\n",
       "    </tr>\n",
       "    <tr>\n",
       "      <th>2</th>\n",
       "      <td>1503960366</td>\n",
       "      <td>2016-04-15 12:00:00</td>\n",
       "      <td>1</td>\n",
       "      <td>412</td>\n",
       "      <td>442</td>\n",
       "      <td>Friday</td>\n",
       "    </tr>\n",
       "    <tr>\n",
       "      <th>3</th>\n",
       "      <td>1503960366</td>\n",
       "      <td>2016-04-16 12:00:00</td>\n",
       "      <td>2</td>\n",
       "      <td>340</td>\n",
       "      <td>367</td>\n",
       "      <td>Saturday</td>\n",
       "    </tr>\n",
       "    <tr>\n",
       "      <th>4</th>\n",
       "      <td>1503960366</td>\n",
       "      <td>2016-04-17 12:00:00</td>\n",
       "      <td>1</td>\n",
       "      <td>700</td>\n",
       "      <td>712</td>\n",
       "      <td>Sunday</td>\n",
       "    </tr>\n",
       "    <tr>\n",
       "      <th>...</th>\n",
       "      <td>...</td>\n",
       "      <td>...</td>\n",
       "      <td>...</td>\n",
       "      <td>...</td>\n",
       "      <td>...</td>\n",
       "      <td>...</td>\n",
       "    </tr>\n",
       "    <tr>\n",
       "      <th>408</th>\n",
       "      <td>8792009665</td>\n",
       "      <td>2016-04-30 12:00:00</td>\n",
       "      <td>1</td>\n",
       "      <td>343</td>\n",
       "      <td>360</td>\n",
       "      <td>Saturday</td>\n",
       "    </tr>\n",
       "    <tr>\n",
       "      <th>409</th>\n",
       "      <td>8792009665</td>\n",
       "      <td>2016-05-01 12:00:00</td>\n",
       "      <td>1</td>\n",
       "      <td>503</td>\n",
       "      <td>527</td>\n",
       "      <td>Sunday</td>\n",
       "    </tr>\n",
       "    <tr>\n",
       "      <th>410</th>\n",
       "      <td>8792009665</td>\n",
       "      <td>2016-05-02 12:00:00</td>\n",
       "      <td>1</td>\n",
       "      <td>415</td>\n",
       "      <td>423</td>\n",
       "      <td>Monday</td>\n",
       "    </tr>\n",
       "    <tr>\n",
       "      <th>411</th>\n",
       "      <td>8792009665</td>\n",
       "      <td>2016-05-03 12:00:00</td>\n",
       "      <td>1</td>\n",
       "      <td>516</td>\n",
       "      <td>545</td>\n",
       "      <td>Tuesday</td>\n",
       "    </tr>\n",
       "    <tr>\n",
       "      <th>412</th>\n",
       "      <td>8792009665</td>\n",
       "      <td>2016-05-04 12:00:00</td>\n",
       "      <td>1</td>\n",
       "      <td>439</td>\n",
       "      <td>463</td>\n",
       "      <td>Wednesday</td>\n",
       "    </tr>\n",
       "  </tbody>\n",
       "</table>\n",
       "<p>413 rows × 6 columns</p>\n",
       "</div>"
      ],
      "text/plain": [
       "             Id                Date  TotalSleepRecords  TotalMinutesAsleep  \\\n",
       "0    1503960366 2016-04-12 12:00:00                  1                 327   \n",
       "1    1503960366 2016-04-13 12:00:00                  2                 384   \n",
       "2    1503960366 2016-04-15 12:00:00                  1                 412   \n",
       "3    1503960366 2016-04-16 12:00:00                  2                 340   \n",
       "4    1503960366 2016-04-17 12:00:00                  1                 700   \n",
       "..          ...                 ...                ...                 ...   \n",
       "408  8792009665 2016-04-30 12:00:00                  1                 343   \n",
       "409  8792009665 2016-05-01 12:00:00                  1                 503   \n",
       "410  8792009665 2016-05-02 12:00:00                  1                 415   \n",
       "411  8792009665 2016-05-03 12:00:00                  1                 516   \n",
       "412  8792009665 2016-05-04 12:00:00                  1                 439   \n",
       "\n",
       "     TotalTimeInBed  DayOfWeek  \n",
       "0               346    Tuesday  \n",
       "1               407  Wednesday  \n",
       "2               442     Friday  \n",
       "3               367   Saturday  \n",
       "4               712     Sunday  \n",
       "..              ...        ...  \n",
       "408             360   Saturday  \n",
       "409             527     Sunday  \n",
       "410             423     Monday  \n",
       "411             545    Tuesday  \n",
       "412             463  Wednesday  \n",
       "\n",
       "[413 rows x 6 columns]"
      ]
     },
     "execution_count": 30,
     "metadata": {},
     "output_type": "execute_result"
    }
   ],
   "source": [
    "#let's add the day of week column here as well\n",
    "sleep_df['DayOfWeek'] = sleep_df.Date.dt.day_name()\n",
    "sleep_df"
   ]
  },
  {
   "cell_type": "code",
   "execution_count": 31,
   "id": "a34bc04a",
   "metadata": {
    "execution": {
     "iopub.execute_input": "2024-08-21T23:03:37.443234Z",
     "iopub.status.busy": "2024-08-21T23:03:37.442792Z",
     "iopub.status.idle": "2024-08-21T23:03:37.449828Z",
     "shell.execute_reply": "2024-08-21T23:03:37.448714Z"
    },
    "papermill": {
     "duration": 0.029519,
     "end_time": "2024-08-21T23:03:37.452241",
     "exception": false,
     "start_time": "2024-08-21T23:03:37.422722",
     "status": "completed"
    },
    "tags": []
   },
   "outputs": [
    {
     "data": {
      "text/plain": [
       "(413, 6)"
      ]
     },
     "execution_count": 31,
     "metadata": {},
     "output_type": "execute_result"
    }
   ],
   "source": [
    "sleep_df.shape"
   ]
  },
  {
   "cell_type": "markdown",
   "id": "080cb3b4",
   "metadata": {
    "papermill": {
     "duration": 0.018927,
     "end_time": "2024-08-21T23:03:37.490375",
     "exception": false,
     "start_time": "2024-08-21T23:03:37.471448",
     "status": "completed"
    },
    "tags": []
   },
   "source": [
    "Now we are gonna Rank each ***Id*** based on their average ***TotalSteps*** because I want to check if there is some correlation between the activities level and sleep quality"
   ]
  },
  {
   "cell_type": "markdown",
   "id": "a733f70a",
   "metadata": {
    "papermill": {
     "duration": 0.019756,
     "end_time": "2024-08-21T23:03:37.528753",
     "exception": false,
     "start_time": "2024-08-21T23:03:37.508997",
     "status": "completed"
    },
    "tags": []
   },
   "source": [
    "# Ranking:\n",
    "* **Sedentary** for <= 400\n",
    "* **Light** for >= 400 and < 800\n",
    "* **Fairly** for >= 800 and < 12000\n",
    "* **Very** for >= 1200"
   ]
  },
  {
   "cell_type": "code",
   "execution_count": 32,
   "id": "342a77dd",
   "metadata": {
    "execution": {
     "iopub.execute_input": "2024-08-21T23:03:37.568061Z",
     "iopub.status.busy": "2024-08-21T23:03:37.567632Z",
     "iopub.status.idle": "2024-08-21T23:03:37.586842Z",
     "shell.execute_reply": "2024-08-21T23:03:37.585695Z"
    },
    "papermill": {
     "duration": 0.041798,
     "end_time": "2024-08-21T23:03:37.589409",
     "exception": false,
     "start_time": "2024-08-21T23:03:37.547611",
     "status": "completed"
    },
    "tags": []
   },
   "outputs": [],
   "source": [
    "id_group = df.groupby(['Id'])\n",
    "id_avg_step = id_group['TotalSteps'].mean().sort_values(ascending=False)\n",
    "id_avg_step = id_avg_step.to_frame()\n",
    "\n",
    "conditions = [\n",
    "    (id_avg_step < 4000),\n",
    "    (id_avg_step >= 4000) & (id_avg_step < 8000),\n",
    "    (id_avg_step >= 8000) & (id_avg_step < 12000),\n",
    "    (id_avg_step >= 12000),\n",
    "]\n",
    "values = ['Sedentary', 'Lightly', 'Fairly', 'Very']\n",
    "\n",
    "id_avg_step['ActivityLevel'] = np.select(conditions, values)\n",
    "\n",
    "id_rank = id_avg_step['ActivityLevel']\n",
    "\n",
    "#here we are adding the column with the results to our df\n",
    "df['ActivityLevel'] = [id_rank[c] for c in df['Id']]"
   ]
  },
  {
   "cell_type": "code",
   "execution_count": 33,
   "id": "bcf8429d",
   "metadata": {
    "execution": {
     "iopub.execute_input": "2024-08-21T23:03:37.628962Z",
     "iopub.status.busy": "2024-08-21T23:03:37.627949Z",
     "iopub.status.idle": "2024-08-21T23:03:37.640686Z",
     "shell.execute_reply": "2024-08-21T23:03:37.639381Z"
    },
    "papermill": {
     "duration": 0.035097,
     "end_time": "2024-08-21T23:03:37.643185",
     "exception": false,
     "start_time": "2024-08-21T23:03:37.608088",
     "status": "completed"
    },
    "tags": []
   },
   "outputs": [
    {
     "data": {
      "text/html": [
       "<div>\n",
       "<style scoped>\n",
       "    .dataframe tbody tr th:only-of-type {\n",
       "        vertical-align: middle;\n",
       "    }\n",
       "\n",
       "    .dataframe tbody tr th {\n",
       "        vertical-align: top;\n",
       "    }\n",
       "\n",
       "    .dataframe thead th {\n",
       "        text-align: right;\n",
       "    }\n",
       "</style>\n",
       "<table border=\"1\" class=\"dataframe\">\n",
       "  <thead>\n",
       "    <tr style=\"text-align: right;\">\n",
       "      <th></th>\n",
       "      <th>Id</th>\n",
       "      <th>Date</th>\n",
       "      <th>TotalSleepRecords</th>\n",
       "      <th>TotalMinutesAsleep</th>\n",
       "      <th>TotalTimeInBed</th>\n",
       "      <th>DayOfWeek</th>\n",
       "    </tr>\n",
       "  </thead>\n",
       "  <tbody>\n",
       "    <tr>\n",
       "      <th>0</th>\n",
       "      <td>1503960366</td>\n",
       "      <td>2016-04-12 12:00:00</td>\n",
       "      <td>1</td>\n",
       "      <td>327</td>\n",
       "      <td>346</td>\n",
       "      <td>Tuesday</td>\n",
       "    </tr>\n",
       "    <tr>\n",
       "      <th>1</th>\n",
       "      <td>1503960366</td>\n",
       "      <td>2016-04-13 12:00:00</td>\n",
       "      <td>2</td>\n",
       "      <td>384</td>\n",
       "      <td>407</td>\n",
       "      <td>Wednesday</td>\n",
       "    </tr>\n",
       "    <tr>\n",
       "      <th>2</th>\n",
       "      <td>1503960366</td>\n",
       "      <td>2016-04-15 12:00:00</td>\n",
       "      <td>1</td>\n",
       "      <td>412</td>\n",
       "      <td>442</td>\n",
       "      <td>Friday</td>\n",
       "    </tr>\n",
       "    <tr>\n",
       "      <th>3</th>\n",
       "      <td>1503960366</td>\n",
       "      <td>2016-04-16 12:00:00</td>\n",
       "      <td>2</td>\n",
       "      <td>340</td>\n",
       "      <td>367</td>\n",
       "      <td>Saturday</td>\n",
       "    </tr>\n",
       "    <tr>\n",
       "      <th>4</th>\n",
       "      <td>1503960366</td>\n",
       "      <td>2016-04-17 12:00:00</td>\n",
       "      <td>1</td>\n",
       "      <td>700</td>\n",
       "      <td>712</td>\n",
       "      <td>Sunday</td>\n",
       "    </tr>\n",
       "  </tbody>\n",
       "</table>\n",
       "</div>"
      ],
      "text/plain": [
       "           Id                Date  TotalSleepRecords  TotalMinutesAsleep  \\\n",
       "0  1503960366 2016-04-12 12:00:00                  1                 327   \n",
       "1  1503960366 2016-04-13 12:00:00                  2                 384   \n",
       "2  1503960366 2016-04-15 12:00:00                  1                 412   \n",
       "3  1503960366 2016-04-16 12:00:00                  2                 340   \n",
       "4  1503960366 2016-04-17 12:00:00                  1                 700   \n",
       "\n",
       "   TotalTimeInBed  DayOfWeek  \n",
       "0             346    Tuesday  \n",
       "1             407  Wednesday  \n",
       "2             442     Friday  \n",
       "3             367   Saturday  \n",
       "4             712     Sunday  "
      ]
     },
     "execution_count": 33,
     "metadata": {},
     "output_type": "execute_result"
    }
   ],
   "source": [
    "sleep_df.head(5)"
   ]
  },
  {
   "cell_type": "code",
   "execution_count": 34,
   "id": "bf94dfdc",
   "metadata": {
    "execution": {
     "iopub.execute_input": "2024-08-21T23:03:37.683619Z",
     "iopub.status.busy": "2024-08-21T23:03:37.683183Z",
     "iopub.status.idle": "2024-08-21T23:03:37.698748Z",
     "shell.execute_reply": "2024-08-21T23:03:37.697595Z"
    },
    "papermill": {
     "duration": 0.038056,
     "end_time": "2024-08-21T23:03:37.701140",
     "exception": false,
     "start_time": "2024-08-21T23:03:37.663084",
     "status": "completed"
    },
    "tags": []
   },
   "outputs": [
    {
     "data": {
      "text/html": [
       "<div>\n",
       "<style scoped>\n",
       "    .dataframe tbody tr th:only-of-type {\n",
       "        vertical-align: middle;\n",
       "    }\n",
       "\n",
       "    .dataframe tbody tr th {\n",
       "        vertical-align: top;\n",
       "    }\n",
       "\n",
       "    .dataframe thead th {\n",
       "        text-align: right;\n",
       "    }\n",
       "</style>\n",
       "<table border=\"1\" class=\"dataframe\">\n",
       "  <thead>\n",
       "    <tr style=\"text-align: right;\">\n",
       "      <th></th>\n",
       "      <th>Id</th>\n",
       "      <th>Date</th>\n",
       "      <th>TotalSteps</th>\n",
       "      <th>TotalDistance</th>\n",
       "      <th>VeryActiveMinutes</th>\n",
       "      <th>FairlyActiveMinutes</th>\n",
       "      <th>LightlyActiveMinutes</th>\n",
       "      <th>SedentaryMinutes</th>\n",
       "      <th>Calories</th>\n",
       "      <th>DayOfWeek</th>\n",
       "      <th>ActivityLevel</th>\n",
       "    </tr>\n",
       "  </thead>\n",
       "  <tbody>\n",
       "    <tr>\n",
       "      <th>0</th>\n",
       "      <td>1503960366</td>\n",
       "      <td>2016-04-12</td>\n",
       "      <td>13162</td>\n",
       "      <td>8.50</td>\n",
       "      <td>25</td>\n",
       "      <td>13</td>\n",
       "      <td>328</td>\n",
       "      <td>728</td>\n",
       "      <td>1985</td>\n",
       "      <td>Tuesday</td>\n",
       "      <td>Very</td>\n",
       "    </tr>\n",
       "    <tr>\n",
       "      <th>1</th>\n",
       "      <td>1503960366</td>\n",
       "      <td>2016-04-13</td>\n",
       "      <td>10735</td>\n",
       "      <td>6.97</td>\n",
       "      <td>21</td>\n",
       "      <td>19</td>\n",
       "      <td>217</td>\n",
       "      <td>776</td>\n",
       "      <td>1797</td>\n",
       "      <td>Wednesday</td>\n",
       "      <td>Very</td>\n",
       "    </tr>\n",
       "    <tr>\n",
       "      <th>2</th>\n",
       "      <td>1503960366</td>\n",
       "      <td>2016-04-14</td>\n",
       "      <td>10460</td>\n",
       "      <td>6.74</td>\n",
       "      <td>30</td>\n",
       "      <td>11</td>\n",
       "      <td>181</td>\n",
       "      <td>1218</td>\n",
       "      <td>1776</td>\n",
       "      <td>Thursday</td>\n",
       "      <td>Very</td>\n",
       "    </tr>\n",
       "    <tr>\n",
       "      <th>3</th>\n",
       "      <td>1503960366</td>\n",
       "      <td>2016-04-15</td>\n",
       "      <td>9762</td>\n",
       "      <td>6.28</td>\n",
       "      <td>29</td>\n",
       "      <td>34</td>\n",
       "      <td>209</td>\n",
       "      <td>726</td>\n",
       "      <td>1745</td>\n",
       "      <td>Friday</td>\n",
       "      <td>Very</td>\n",
       "    </tr>\n",
       "    <tr>\n",
       "      <th>4</th>\n",
       "      <td>1503960366</td>\n",
       "      <td>2016-04-16</td>\n",
       "      <td>12669</td>\n",
       "      <td>8.16</td>\n",
       "      <td>36</td>\n",
       "      <td>10</td>\n",
       "      <td>221</td>\n",
       "      <td>773</td>\n",
       "      <td>1863</td>\n",
       "      <td>Saturday</td>\n",
       "      <td>Very</td>\n",
       "    </tr>\n",
       "  </tbody>\n",
       "</table>\n",
       "</div>"
      ],
      "text/plain": [
       "           Id       Date  TotalSteps  TotalDistance  VeryActiveMinutes  \\\n",
       "0  1503960366 2016-04-12       13162           8.50                 25   \n",
       "1  1503960366 2016-04-13       10735           6.97                 21   \n",
       "2  1503960366 2016-04-14       10460           6.74                 30   \n",
       "3  1503960366 2016-04-15        9762           6.28                 29   \n",
       "4  1503960366 2016-04-16       12669           8.16                 36   \n",
       "\n",
       "   FairlyActiveMinutes  LightlyActiveMinutes  SedentaryMinutes  Calories  \\\n",
       "0                   13                   328               728      1985   \n",
       "1                   19                   217               776      1797   \n",
       "2                   11                   181              1218      1776   \n",
       "3                   34                   209               726      1745   \n",
       "4                   10                   221               773      1863   \n",
       "\n",
       "   DayOfWeek ActivityLevel  \n",
       "0    Tuesday          Very  \n",
       "1  Wednesday          Very  \n",
       "2   Thursday          Very  \n",
       "3     Friday          Very  \n",
       "4   Saturday          Very  "
      ]
     },
     "execution_count": 34,
     "metadata": {},
     "output_type": "execute_result"
    }
   ],
   "source": [
    "df.head(5)"
   ]
  },
  {
   "cell_type": "code",
   "execution_count": 35,
   "id": "866d4c54",
   "metadata": {
    "execution": {
     "iopub.execute_input": "2024-08-21T23:03:37.741468Z",
     "iopub.status.busy": "2024-08-21T23:03:37.741061Z",
     "iopub.status.idle": "2024-08-21T23:03:37.769166Z",
     "shell.execute_reply": "2024-08-21T23:03:37.767949Z"
    },
    "papermill": {
     "duration": 0.050971,
     "end_time": "2024-08-21T23:03:37.771664",
     "exception": false,
     "start_time": "2024-08-21T23:03:37.720693",
     "status": "completed"
    },
    "tags": []
   },
   "outputs": [
    {
     "data": {
      "text/html": [
       "<div>\n",
       "<style scoped>\n",
       "    .dataframe tbody tr th:only-of-type {\n",
       "        vertical-align: middle;\n",
       "    }\n",
       "\n",
       "    .dataframe tbody tr th {\n",
       "        vertical-align: top;\n",
       "    }\n",
       "\n",
       "    .dataframe thead th {\n",
       "        text-align: right;\n",
       "    }\n",
       "</style>\n",
       "<table border=\"1\" class=\"dataframe\">\n",
       "  <thead>\n",
       "    <tr style=\"text-align: right;\">\n",
       "      <th></th>\n",
       "      <th>Id</th>\n",
       "      <th>Date</th>\n",
       "      <th>TotalSteps</th>\n",
       "      <th>TotalDistance</th>\n",
       "      <th>VeryActiveMinutes</th>\n",
       "      <th>FairlyActiveMinutes</th>\n",
       "      <th>LightlyActiveMinutes</th>\n",
       "      <th>SedentaryMinutes</th>\n",
       "      <th>Calories</th>\n",
       "      <th>DayOfWeek</th>\n",
       "      <th>ActivityLevel</th>\n",
       "      <th>Id</th>\n",
       "      <th>Date</th>\n",
       "      <th>TotalSleepRecords</th>\n",
       "      <th>TotalMinutesAsleep</th>\n",
       "      <th>TotalTimeInBed</th>\n",
       "      <th>DayOfWeek</th>\n",
       "    </tr>\n",
       "  </thead>\n",
       "  <tbody>\n",
       "    <tr>\n",
       "      <th>0</th>\n",
       "      <td>1503960366</td>\n",
       "      <td>2016-04-12</td>\n",
       "      <td>13162</td>\n",
       "      <td>8.500000</td>\n",
       "      <td>25</td>\n",
       "      <td>13</td>\n",
       "      <td>328</td>\n",
       "      <td>728</td>\n",
       "      <td>1985</td>\n",
       "      <td>Tuesday</td>\n",
       "      <td>Very</td>\n",
       "      <td>1503960366</td>\n",
       "      <td>2016-04-12 12:00:00</td>\n",
       "      <td>1.0</td>\n",
       "      <td>327.0</td>\n",
       "      <td>346.0</td>\n",
       "      <td>Tuesday</td>\n",
       "    </tr>\n",
       "    <tr>\n",
       "      <th>1</th>\n",
       "      <td>1503960366</td>\n",
       "      <td>2016-04-13</td>\n",
       "      <td>10735</td>\n",
       "      <td>6.970000</td>\n",
       "      <td>21</td>\n",
       "      <td>19</td>\n",
       "      <td>217</td>\n",
       "      <td>776</td>\n",
       "      <td>1797</td>\n",
       "      <td>Wednesday</td>\n",
       "      <td>Very</td>\n",
       "      <td>1503960366</td>\n",
       "      <td>2016-04-13 12:00:00</td>\n",
       "      <td>2.0</td>\n",
       "      <td>384.0</td>\n",
       "      <td>407.0</td>\n",
       "      <td>Wednesday</td>\n",
       "    </tr>\n",
       "    <tr>\n",
       "      <th>2</th>\n",
       "      <td>1503960366</td>\n",
       "      <td>2016-04-14</td>\n",
       "      <td>10460</td>\n",
       "      <td>6.740000</td>\n",
       "      <td>30</td>\n",
       "      <td>11</td>\n",
       "      <td>181</td>\n",
       "      <td>1218</td>\n",
       "      <td>1776</td>\n",
       "      <td>Thursday</td>\n",
       "      <td>Very</td>\n",
       "      <td>1503960366</td>\n",
       "      <td>2016-04-15 12:00:00</td>\n",
       "      <td>1.0</td>\n",
       "      <td>412.0</td>\n",
       "      <td>442.0</td>\n",
       "      <td>Friday</td>\n",
       "    </tr>\n",
       "    <tr>\n",
       "      <th>3</th>\n",
       "      <td>1503960366</td>\n",
       "      <td>2016-04-15</td>\n",
       "      <td>9762</td>\n",
       "      <td>6.280000</td>\n",
       "      <td>29</td>\n",
       "      <td>34</td>\n",
       "      <td>209</td>\n",
       "      <td>726</td>\n",
       "      <td>1745</td>\n",
       "      <td>Friday</td>\n",
       "      <td>Very</td>\n",
       "      <td>1503960366</td>\n",
       "      <td>2016-04-16 12:00:00</td>\n",
       "      <td>2.0</td>\n",
       "      <td>340.0</td>\n",
       "      <td>367.0</td>\n",
       "      <td>Saturday</td>\n",
       "    </tr>\n",
       "    <tr>\n",
       "      <th>4</th>\n",
       "      <td>1503960366</td>\n",
       "      <td>2016-04-16</td>\n",
       "      <td>12669</td>\n",
       "      <td>8.160000</td>\n",
       "      <td>36</td>\n",
       "      <td>10</td>\n",
       "      <td>221</td>\n",
       "      <td>773</td>\n",
       "      <td>1863</td>\n",
       "      <td>Saturday</td>\n",
       "      <td>Very</td>\n",
       "      <td>1503960366</td>\n",
       "      <td>2016-04-17 12:00:00</td>\n",
       "      <td>1.0</td>\n",
       "      <td>700.0</td>\n",
       "      <td>712.0</td>\n",
       "      <td>Sunday</td>\n",
       "    </tr>\n",
       "    <tr>\n",
       "      <th>...</th>\n",
       "      <td>...</td>\n",
       "      <td>...</td>\n",
       "      <td>...</td>\n",
       "      <td>...</td>\n",
       "      <td>...</td>\n",
       "      <td>...</td>\n",
       "      <td>...</td>\n",
       "      <td>...</td>\n",
       "      <td>...</td>\n",
       "      <td>...</td>\n",
       "      <td>...</td>\n",
       "      <td>...</td>\n",
       "      <td>...</td>\n",
       "      <td>...</td>\n",
       "      <td>...</td>\n",
       "      <td>...</td>\n",
       "      <td>...</td>\n",
       "    </tr>\n",
       "    <tr>\n",
       "      <th>935</th>\n",
       "      <td>8877689391</td>\n",
       "      <td>2016-05-08</td>\n",
       "      <td>10686</td>\n",
       "      <td>8.110000</td>\n",
       "      <td>17</td>\n",
       "      <td>4</td>\n",
       "      <td>245</td>\n",
       "      <td>1174</td>\n",
       "      <td>2847</td>\n",
       "      <td>Sunday</td>\n",
       "      <td>Very</td>\n",
       "      <td>NaN</td>\n",
       "      <td>NaT</td>\n",
       "      <td>NaN</td>\n",
       "      <td>NaN</td>\n",
       "      <td>NaN</td>\n",
       "      <td>NaN</td>\n",
       "    </tr>\n",
       "    <tr>\n",
       "      <th>936</th>\n",
       "      <td>8877689391</td>\n",
       "      <td>2016-05-09</td>\n",
       "      <td>20226</td>\n",
       "      <td>18.250000</td>\n",
       "      <td>73</td>\n",
       "      <td>19</td>\n",
       "      <td>217</td>\n",
       "      <td>1131</td>\n",
       "      <td>3710</td>\n",
       "      <td>Monday</td>\n",
       "      <td>Very</td>\n",
       "      <td>NaN</td>\n",
       "      <td>NaT</td>\n",
       "      <td>NaN</td>\n",
       "      <td>NaN</td>\n",
       "      <td>NaN</td>\n",
       "      <td>NaN</td>\n",
       "    </tr>\n",
       "    <tr>\n",
       "      <th>937</th>\n",
       "      <td>8877689391</td>\n",
       "      <td>2016-05-10</td>\n",
       "      <td>10733</td>\n",
       "      <td>8.150000</td>\n",
       "      <td>18</td>\n",
       "      <td>11</td>\n",
       "      <td>224</td>\n",
       "      <td>1187</td>\n",
       "      <td>2832</td>\n",
       "      <td>Tuesday</td>\n",
       "      <td>Very</td>\n",
       "      <td>NaN</td>\n",
       "      <td>NaT</td>\n",
       "      <td>NaN</td>\n",
       "      <td>NaN</td>\n",
       "      <td>NaN</td>\n",
       "      <td>NaN</td>\n",
       "    </tr>\n",
       "    <tr>\n",
       "      <th>938</th>\n",
       "      <td>8877689391</td>\n",
       "      <td>2016-05-11</td>\n",
       "      <td>21420</td>\n",
       "      <td>19.559999</td>\n",
       "      <td>88</td>\n",
       "      <td>12</td>\n",
       "      <td>213</td>\n",
       "      <td>1127</td>\n",
       "      <td>3832</td>\n",
       "      <td>Wednesday</td>\n",
       "      <td>Very</td>\n",
       "      <td>NaN</td>\n",
       "      <td>NaT</td>\n",
       "      <td>NaN</td>\n",
       "      <td>NaN</td>\n",
       "      <td>NaN</td>\n",
       "      <td>NaN</td>\n",
       "    </tr>\n",
       "    <tr>\n",
       "      <th>939</th>\n",
       "      <td>8877689391</td>\n",
       "      <td>2016-05-12</td>\n",
       "      <td>8064</td>\n",
       "      <td>6.120000</td>\n",
       "      <td>23</td>\n",
       "      <td>1</td>\n",
       "      <td>137</td>\n",
       "      <td>770</td>\n",
       "      <td>1849</td>\n",
       "      <td>Thursday</td>\n",
       "      <td>Very</td>\n",
       "      <td>NaN</td>\n",
       "      <td>NaT</td>\n",
       "      <td>NaN</td>\n",
       "      <td>NaN</td>\n",
       "      <td>NaN</td>\n",
       "      <td>NaN</td>\n",
       "    </tr>\n",
       "  </tbody>\n",
       "</table>\n",
       "<p>940 rows × 17 columns</p>\n",
       "</div>"
      ],
      "text/plain": [
       "             Id       Date  TotalSteps  TotalDistance  VeryActiveMinutes  \\\n",
       "0    1503960366 2016-04-12       13162       8.500000                 25   \n",
       "1    1503960366 2016-04-13       10735       6.970000                 21   \n",
       "2    1503960366 2016-04-14       10460       6.740000                 30   \n",
       "3    1503960366 2016-04-15        9762       6.280000                 29   \n",
       "4    1503960366 2016-04-16       12669       8.160000                 36   \n",
       "..          ...        ...         ...            ...                ...   \n",
       "935  8877689391 2016-05-08       10686       8.110000                 17   \n",
       "936  8877689391 2016-05-09       20226      18.250000                 73   \n",
       "937  8877689391 2016-05-10       10733       8.150000                 18   \n",
       "938  8877689391 2016-05-11       21420      19.559999                 88   \n",
       "939  8877689391 2016-05-12        8064       6.120000                 23   \n",
       "\n",
       "     FairlyActiveMinutes  LightlyActiveMinutes  SedentaryMinutes  Calories  \\\n",
       "0                     13                   328               728      1985   \n",
       "1                     19                   217               776      1797   \n",
       "2                     11                   181              1218      1776   \n",
       "3                     34                   209               726      1745   \n",
       "4                     10                   221               773      1863   \n",
       "..                   ...                   ...               ...       ...   \n",
       "935                    4                   245              1174      2847   \n",
       "936                   19                   217              1131      3710   \n",
       "937                   11                   224              1187      2832   \n",
       "938                   12                   213              1127      3832   \n",
       "939                    1                   137               770      1849   \n",
       "\n",
       "     DayOfWeek ActivityLevel          Id                Date  \\\n",
       "0      Tuesday          Very  1503960366 2016-04-12 12:00:00   \n",
       "1    Wednesday          Very  1503960366 2016-04-13 12:00:00   \n",
       "2     Thursday          Very  1503960366 2016-04-15 12:00:00   \n",
       "3       Friday          Very  1503960366 2016-04-16 12:00:00   \n",
       "4     Saturday          Very  1503960366 2016-04-17 12:00:00   \n",
       "..         ...           ...         ...                 ...   \n",
       "935     Sunday          Very         NaN                 NaT   \n",
       "936     Monday          Very         NaN                 NaT   \n",
       "937    Tuesday          Very         NaN                 NaT   \n",
       "938  Wednesday          Very         NaN                 NaT   \n",
       "939   Thursday          Very         NaN                 NaT   \n",
       "\n",
       "     TotalSleepRecords  TotalMinutesAsleep  TotalTimeInBed  DayOfWeek  \n",
       "0                  1.0               327.0           346.0    Tuesday  \n",
       "1                  2.0               384.0           407.0  Wednesday  \n",
       "2                  1.0               412.0           442.0     Friday  \n",
       "3                  2.0               340.0           367.0   Saturday  \n",
       "4                  1.0               700.0           712.0     Sunday  \n",
       "..                 ...                 ...             ...        ...  \n",
       "935                NaN                 NaN             NaN        NaN  \n",
       "936                NaN                 NaN             NaN        NaN  \n",
       "937                NaN                 NaN             NaN        NaN  \n",
       "938                NaN                 NaN             NaN        NaN  \n",
       "939                NaN                 NaN             NaN        NaN  \n",
       "\n",
       "[940 rows x 17 columns]"
      ]
     },
     "execution_count": 35,
     "metadata": {},
     "output_type": "execute_result"
    }
   ],
   "source": [
    "df_merged = pd.concat([df, sleep_df], axis=\"columns\")\n",
    "                                            \n",
    "df_merged"
   ]
  },
  {
   "cell_type": "markdown",
   "id": "1b1b781f",
   "metadata": {
    "papermill": {
     "duration": 0.019371,
     "end_time": "2024-08-21T23:03:37.811553",
     "exception": false,
     "start_time": "2024-08-21T23:03:37.792182",
     "status": "completed"
    },
    "tags": []
   },
   "source": [
    "------------------------------------------------------------------------------------------------------------------------"
   ]
  },
  {
   "cell_type": "markdown",
   "id": "b25d5db9",
   "metadata": {
    "papermill": {
     "duration": 0.019152,
     "end_time": "2024-08-21T23:03:37.850152",
     "exception": false,
     "start_time": "2024-08-21T23:03:37.831000",
     "status": "completed"
    },
    "tags": []
   },
   "source": [
    "# Great! Let's **Visualise** and **Share** what we've got "
   ]
  },
  {
   "cell_type": "code",
   "execution_count": 36,
   "id": "925f315e",
   "metadata": {
    "execution": {
     "iopub.execute_input": "2024-08-21T23:03:37.891639Z",
     "iopub.status.busy": "2024-08-21T23:03:37.891119Z",
     "iopub.status.idle": "2024-08-21T23:03:38.164750Z",
     "shell.execute_reply": "2024-08-21T23:03:38.163567Z"
    },
    "papermill": {
     "duration": 0.297088,
     "end_time": "2024-08-21T23:03:38.167204",
     "exception": false,
     "start_time": "2024-08-21T23:03:37.870116",
     "status": "completed"
    },
    "tags": []
   },
   "outputs": [
    {
     "data": {
      "text/plain": [
       "Text(0.5, 1.05, 'Activity Level Rank')"
      ]
     },
     "execution_count": 36,
     "metadata": {},
     "output_type": "execute_result"
    },
    {
     "data": {
      "image/png": "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",
      "text/plain": [
       "<Figure size 640x480 with 1 Axes>"
      ]
     },
     "metadata": {},
     "output_type": "display_data"
    }
   ],
   "source": [
    "#Quick overview about our activity Ranking\n",
    "rank = ['Very', 'Fairly', 'Lightly', 'Sedentary']\n",
    "ax = sns.barplot(x='ActivityLevel', y='TotalSteps', \n",
    "                 data=df, \n",
    "                 palette=['b', 'g', 'orange', 'red'], alpha=0.75, order=rank,\n",
    "                 width=0.5, errorbar=None)\n",
    "plt.title('Activity Level Rank', fontsize=15, y=1.05, color='grey')\n",
    "\n"
   ]
  },
  {
   "cell_type": "code",
   "execution_count": 37,
   "id": "dc565026",
   "metadata": {
    "execution": {
     "iopub.execute_input": "2024-08-21T23:03:38.210237Z",
     "iopub.status.busy": "2024-08-21T23:03:38.209813Z",
     "iopub.status.idle": "2024-08-21T23:03:38.720849Z",
     "shell.execute_reply": "2024-08-21T23:03:38.719703Z"
    },
    "papermill": {
     "duration": 0.535702,
     "end_time": "2024-08-21T23:03:38.723223",
     "exception": false,
     "start_time": "2024-08-21T23:03:38.187521",
     "status": "completed"
    },
    "tags": []
   },
   "outputs": [
    {
     "data": {
      "text/plain": [
       "Text(0.5, 1.05, 'Calories vs TotalSteps')"
      ]
     },
     "execution_count": 37,
     "metadata": {},
     "output_type": "execute_result"
    },
    {
     "data": {
      "image/png": "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",
      "text/plain": [
       "<Figure size 640x480 with 1 Axes>"
      ]
     },
     "metadata": {},
     "output_type": "display_data"
    }
   ],
   "source": [
    "ax = sns.scatterplot(x='TotalSteps', y='Calories', data=df, hue=('ActivityLevel'), palette=['b', 'g', 'red', 'orange'])\n",
    "plt.title('Calories vs TotalSteps', fontsize=18, y=1.05, color='grey')\n"
   ]
  },
  {
   "cell_type": "markdown",
   "id": "43e25ca3",
   "metadata": {
    "papermill": {
     "duration": 0.021588,
     "end_time": "2024-08-21T23:03:38.766955",
     "exception": false,
     "start_time": "2024-08-21T23:03:38.745367",
     "status": "completed"
    },
    "tags": []
   },
   "source": [
    "Here we can see the **correlation** between ***TotalSteps* and *Calories***.\n",
    "As more Steps we do, more Calories we burn."
   ]
  },
  {
   "cell_type": "code",
   "execution_count": 38,
   "id": "3237dd03",
   "metadata": {
    "execution": {
     "iopub.execute_input": "2024-08-21T23:03:38.813312Z",
     "iopub.status.busy": "2024-08-21T23:03:38.812900Z",
     "iopub.status.idle": "2024-08-21T23:03:39.660218Z",
     "shell.execute_reply": "2024-08-21T23:03:39.657458Z"
    },
    "papermill": {
     "duration": 0.874338,
     "end_time": "2024-08-21T23:03:39.664045",
     "exception": false,
     "start_time": "2024-08-21T23:03:38.789707",
     "status": "completed"
    },
    "tags": []
   },
   "outputs": [
    {
     "data": {
      "text/plain": [
       "Text(0.5, 0.96, 'ActivityLevel vs Calories')"
      ]
     },
     "execution_count": 38,
     "metadata": {},
     "output_type": "execute_result"
    },
    {
     "data": {
      "image/png": "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",
      "text/plain": [
       "<Figure size 840x630 with 4 Axes>"
      ]
     },
     "metadata": {},
     "output_type": "display_data"
    }
   ],
   "source": [
    "fig, axes = plt.subplots(nrows=2, ncols=2,figsize=(12,9), dpi=70)\n",
    "\n",
    "ax = sns.scatterplot(x='SedentaryMinutes', y='Calories', data=df, color='red', alpha=0.5, ax=axes[0,0], legend=False)\n",
    "ax = sns.scatterplot(x='LightlyActiveMinutes', y='Calories', data=df, color='orange', alpha=0.5, ax=axes[0,1], legend=False)\n",
    "ax = sns.scatterplot(x='FairlyActiveMinutes', y='Calories', data=df, color='green', alpha=0.5, ax=axes[1,0], legend=False)\n",
    "ax = sns.scatterplot(x='VeryActiveMinutes', y='Calories', data=df, color='blue', alpha=0.5, ax=axes[1,1], legend=False)\n",
    "fig.suptitle('ActivityLevel vs Calories', x=0.5, y=0.96, fontsize=22, color='grey')"
   ]
  },
  {
   "cell_type": "code",
   "execution_count": null,
   "id": "7a2ee535",
   "metadata": {
    "papermill": {
     "duration": 0.024524,
     "end_time": "2024-08-21T23:03:39.719433",
     "exception": false,
     "start_time": "2024-08-21T23:03:39.694909",
     "status": "completed"
    },
    "tags": []
   },
   "outputs": [],
   "source": []
  },
  {
   "cell_type": "code",
   "execution_count": 39,
   "id": "ada7754d",
   "metadata": {
    "execution": {
     "iopub.execute_input": "2024-08-21T23:03:39.769366Z",
     "iopub.status.busy": "2024-08-21T23:03:39.768967Z",
     "iopub.status.idle": "2024-08-21T23:03:40.046954Z",
     "shell.execute_reply": "2024-08-21T23:03:40.045645Z"
    },
    "papermill": {
     "duration": 0.306372,
     "end_time": "2024-08-21T23:03:40.049655",
     "exception": false,
     "start_time": "2024-08-21T23:03:39.743283",
     "status": "completed"
    },
    "tags": []
   },
   "outputs": [
    {
     "data": {
      "text/plain": [
       "Text(0.5, 1.05, 'DayOfWeek vs TotalSteps')"
      ]
     },
     "execution_count": 39,
     "metadata": {},
     "output_type": "execute_result"
    },
    {
     "data": {
      "image/png": "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",
      "text/plain": [
       "<Figure size 640x480 with 1 Axes>"
      ]
     },
     "metadata": {},
     "output_type": "display_data"
    }
   ],
   "source": [
    "rank = ['Sunday', 'Monday', 'Tuesday', 'Wednesday', 'Thursday', 'Friday', 'Saturday']\n",
    "ax = sns.barplot(x='TotalSteps', y='DayOfWeek', data=df, order=rank, errorbar=None)\n",
    "plt.title('DayOfWeek vs TotalSteps', fontsize=16, y=1.05, color='grey')"
   ]
  },
  {
   "cell_type": "markdown",
   "id": "6c6982fa",
   "metadata": {
    "papermill": {
     "duration": 0.024538,
     "end_time": "2024-08-21T23:03:40.098830",
     "exception": false,
     "start_time": "2024-08-21T23:03:40.074292",
     "status": "completed"
    },
    "tags": []
   },
   "source": [
    "According to the chart above we can see that **Saturday** is the day that people take more steps, followed by *Tuesday*."
   ]
  },
  {
   "cell_type": "code",
   "execution_count": 40,
   "id": "90dc9630",
   "metadata": {
    "_kg_hide-input": false,
    "execution": {
     "iopub.execute_input": "2024-08-21T23:03:40.150226Z",
     "iopub.status.busy": "2024-08-21T23:03:40.149835Z",
     "iopub.status.idle": "2024-08-21T23:03:41.679428Z",
     "shell.execute_reply": "2024-08-21T23:03:41.678044Z"
    },
    "papermill": {
     "duration": 1.558409,
     "end_time": "2024-08-21T23:03:41.682381",
     "exception": false,
     "start_time": "2024-08-21T23:03:40.123972",
     "status": "completed"
    },
    "tags": []
   },
   "outputs": [
    {
     "name": "stderr",
     "output_type": "stream",
    },
    {
     "data": {
      "text/plain": [
       "Text(0.5, 0.95, 'Activity Level vs Day Of Week')"
      ]
     },
     "execution_count": 40,
     "metadata": {},
     "output_type": "execute_result"
    },
    {
     "data": {
      "image/png": "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",
      "text/plain": [
       "<Figure size 975x715 with 4 Axes>"
      ]
     },
     "metadata": {},
     "output_type": "display_data"
    }
   ],
   "source": [
    "fig, axes = plt.subplots(nrows=2, ncols=2,figsize=(15,11), dpi=65)\n",
    "rank = ['Sunday', 'Monday', 'Tuesday', 'Wednesday', 'Thursday', 'Friday', 'Saturday']\n",
    "ax = sns.lineplot(x='DayOfWeek', y='SedentaryMinutes', data=df, ax=axes[0,0], label='Sedentary',color='red')\n",
    "ax = sns.lineplot(x='DayOfWeek', y='LightlyActiveMinutes', data=df, ax=axes[0,1], label='Lightly Active',color='orange')\n",
    "ax = sns.lineplot(x='DayOfWeek', y='FairlyActiveMinutes', data=df, ax=axes[1,0], label='Fairly Active', color='green')\n",
    "ax = sns.lineplot(x='DayOfWeek', y='VeryActiveMinutes', data=df, ax=axes[1,1], label='Very Active', color='blue')\n",
    "fig.suptitle('Activity Level vs Day Of Week', x=0.5, y=0.95, fontsize=22, color='grey')"
   ]
  },
  {
   "cell_type": "code",
   "execution_count": 41,
   "id": "1470dd1a",
   "metadata": {
    "execution": {
     "iopub.execute_input": "2024-08-21T23:03:41.736638Z",
     "iopub.status.busy": "2024-08-21T23:03:41.736185Z",
     "iopub.status.idle": "2024-08-21T23:03:42.021528Z",
     "shell.execute_reply": "2024-08-21T23:03:42.020317Z"
    },
    "papermill": {
     "duration": 0.315228,
     "end_time": "2024-08-21T23:03:42.024099",
     "exception": false,
     "start_time": "2024-08-21T23:03:41.708871",
     "status": "completed"
    },
    "tags": []
   },
   "outputs": [
    {
     "data": {
      "text/plain": [
       "Text(0.5, 1.05, 'Time in Bed vs Total Min Asleep')"
      ]
     },
     "execution_count": 41,
     "metadata": {},
     "output_type": "execute_result"
    },
    {
     "data": {
      "image/png": "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",
      "text/plain": [
       "<Figure size 640x480 with 1 Axes>"
      ]
     },
     "metadata": {},
     "output_type": "display_data"
    }
   ],
   "source": [
    "ax = sns.scatterplot(data=df_merged, x='TotalMinutesAsleep', y='TotalTimeInBed')\n",
    "plt.title('Time in Bed vs Total Min Asleep', fontsize=18, y=1.05, color='grey')"
   ]
  },
  {
   "cell_type": "markdown",
   "id": "c8d03b23",
   "metadata": {
    "papermill": {
     "duration": 0.027015,
     "end_time": "2024-08-21T23:03:42.078472",
     "exception": false,
     "start_time": "2024-08-21T23:03:42.051457",
     "status": "completed"
    },
    "tags": []
   },
   "source": [
    "Above we can see the **correlation between time in bed and total sleep**, saying so we can think about the possibility of improving the total sleep for people who doesn't sleep at least 7hours as estimated for an adult (according to NIH), making them go to bed early or wake up later, depending on their routine."
   ]
  },
  {
   "cell_type": "code",
   "execution_count": 42,
   "id": "f9bfed5c",
   "metadata": {
    "execution": {
     "iopub.execute_input": "2024-08-21T23:03:42.134913Z",
     "iopub.status.busy": "2024-08-21T23:03:42.134468Z",
     "iopub.status.idle": "2024-08-21T23:03:43.138314Z",
     "shell.execute_reply": "2024-08-21T23:03:43.137048Z"
    },
    "papermill": {
     "duration": 1.035078,
     "end_time": "2024-08-21T23:03:43.141474",
     "exception": false,
     "start_time": "2024-08-21T23:03:42.106396",
     "status": "completed"
    },
    "tags": []
   },
   "outputs": [
    {
     "data": {
      "text/plain": [
       "Text(0.5, 0.96, 'ActivityLevel vs Sleep')"
      ]
     },
     "execution_count": 42,
     "metadata": {},
     "output_type": "execute_result"
    },
    {
     "data": {
      "image/png": "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",
      "text/plain": [
       "<Figure size 840x630 with 4 Axes>"
      ]
     },
     "metadata": {},
     "output_type": "display_data"
    }
   ],
   "source": [
    "fig, axes = plt.subplots(nrows=2, ncols=2,figsize=(12,9), dpi=70)\n",
    "\n",
    "ax = sns.scatterplot(x='SedentaryMinutes', y='TotalMinutesAsleep', data=df_merged, ax=axes[0,0], color='red', legend=False)\n",
    "ax = sns.scatterplot(x='LightlyActiveMinutes', y='TotalMinutesAsleep', data=df_merged, ax=axes[0,1], color='orange', legend=False)\n",
    "ax = sns.scatterplot(x='FairlyActiveMinutes', y='TotalMinutesAsleep', data=df_merged, ax=axes[1,0], color='green', legend=False)\n",
    "ax = sns.scatterplot(x='VeryActiveMinutes', y='TotalMinutesAsleep', data=df_merged, ax=axes[1,1],color='blue' , legend=True)\n",
    "fig.suptitle('ActivityLevel vs Sleep', x=0.5, y=0.96, fontsize=22, color='grey')\n"
   ]
  },
  {
   "cell_type": "code",
   "execution_count": 43,
   "id": "0be5cb35",
   "metadata": {
    "execution": {
     "iopub.execute_input": "2024-08-21T23:03:43.201409Z",
     "iopub.status.busy": "2024-08-21T23:03:43.200939Z",
     "iopub.status.idle": "2024-08-21T23:03:43.412225Z",
     "shell.execute_reply": "2024-08-21T23:03:43.410798Z"
    },
    "papermill": {
     "duration": 0.244278,
     "end_time": "2024-08-21T23:03:43.414597",
     "exception": false,
     "start_time": "2024-08-21T23:03:43.170319",
     "status": "completed"
    },
    "tags": []
   },
   "outputs": [
    {
     "data": {
      "text/plain": [
       "Text(0.5, 1.05, 'DayOfWeek vs TotalMinutesAsleep')"
      ]
     },
     "execution_count": 43,
     "metadata": {},
     "output_type": "execute_result"
    },
    {
     "data": {
      "image/png": "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",
      "text/plain": [
       "<Figure size 640x480 with 1 Axes>"
      ]
     },
     "metadata": {},
     "output_type": "display_data"
    }
   ],
   "source": [
    "rank = ['Sunday', 'Monday', 'Tuesday', 'Wednesday', 'Thursday', 'Friday', 'Saturday']\n",
    "ax = sns.barplot(x='TotalMinutesAsleep', y='DayOfWeek',data=sleep_df, order=rank, errorbar=None)\n",
    "plt.title('DayOfWeek vs TotalMinutesAsleep', fontsize=16, y=1.05, color='grey')"
   ]
  },
  {
   "cell_type": "markdown",
   "id": "50fc0734",
   "metadata": {
    "papermill": {
     "duration": 0.02909,
     "end_time": "2024-08-21T23:03:43.473269",
     "exception": false,
     "start_time": "2024-08-21T23:03:43.444179",
     "status": "completed"
    },
    "tags": []
   },
   "source": [
    "We can see that **Sunday** is the day that people sleeps the most, followed by *Wednesday*. \n",
    "What makes an interesting fact regarding that *Tuesday* and *Saturday* are the most active days."
   ]
  },
  {
   "cell_type": "markdown",
   "id": "83181ac8",
   "metadata": {
    "papermill": {
     "duration": 0.029245,
     "end_time": "2024-08-21T23:03:43.532408",
     "exception": false,
     "start_time": "2024-08-21T23:03:43.503163",
     "status": "completed"
    },
    "tags": []
   },
   "source": [
    "Now let's check the **percentage** about the different levels of activity by steps"
   ]
  },
  {
   "cell_type": "code",
   "execution_count": 44,
   "id": "cf529f79",
   "metadata": {
    "execution": {
     "iopub.execute_input": "2024-08-21T23:03:43.595754Z",
     "iopub.status.busy": "2024-08-21T23:03:43.594737Z",
     "iopub.status.idle": "2024-08-21T23:03:43.604022Z",
     "shell.execute_reply": "2024-08-21T23:03:43.602900Z"
    },
    "papermill": {
     "duration": 0.042889,
     "end_time": "2024-08-21T23:03:43.606338",
     "exception": false,
     "start_time": "2024-08-21T23:03:43.563449",
     "status": "completed"
    },
    "tags": []
   },
   "outputs": [
    {
     "data": {
      "text/plain": [
       "ActivityLevel\n",
       "Lightly      374\n",
       "Fairly       321\n",
       "Sedentary    152\n",
       "Very          93\n",
       "Name: count, dtype: int64"
      ]
     },
     "execution_count": 44,
     "metadata": {},
     "output_type": "execute_result"
    }
   ],
   "source": [
    "levels = df['ActivityLevel'].value_counts()\n",
    "levels\n"
   ]
  },
  {
   "cell_type": "code",
   "execution_count": 45,
   "id": "6203cd84",
   "metadata": {
    "execution": {
     "iopub.execute_input": "2024-08-21T23:03:43.668846Z",
     "iopub.status.busy": "2024-08-21T23:03:43.667355Z",
     "iopub.status.idle": "2024-08-21T23:03:43.919845Z",
     "shell.execute_reply": "2024-08-21T23:03:43.918262Z"
    },
    "papermill": {
     "duration": 0.287764,
     "end_time": "2024-08-21T23:03:43.923678",
     "exception": false,
     "start_time": "2024-08-21T23:03:43.635914",
     "status": "completed"
    },
    "tags": []
   },
   "outputs": [
    {
     "data": {
      "text/plain": [
       "Text(0.5, 1.05, 'Activity Level Distribution')"
      ]
     },
     "execution_count": 45,
     "metadata": {},
     "output_type": "execute_result"
    },
    {
     "data": {
      "image/png": "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",
      "text/plain": [
       "<Figure size 500x500 with 1 Axes>"
      ]
     },
     "metadata": {},
     "output_type": "display_data"
    }
   ],
   "source": [
    "levels = pd.DataFrame({'ActivityLevel': [93, 321, 374, 152],\n",
    "                   'radius': [93, 321, 374, 152]},\n",
    "                  index=['Very', 'Fairly', 'Lightly', 'Sedentary'])\n",
    "colors=['red', 'orange', 'yellow', 'blue']\n",
    "plot = levels.plot.pie(y='ActivityLevel', figsize=(5, 5), autopct='%1.0f%%', explode=[0, 0, 0, 0.1])\n",
    "plt.title('Activity Level Distribution', fontsize=16, y=1.05, color='grey')"
   ]
  },
  {
   "cell_type": "markdown",
   "id": "9c983e34",
   "metadata": {
    "papermill": {
     "duration": 0.0309,
     "end_time": "2024-08-21T23:03:43.994645",
     "exception": false,
     "start_time": "2024-08-21T23:03:43.963745",
     "status": "completed"
    },
    "tags": []
   },
   "source": [
    "The pie chart shows us that the majority of people are *Fairly* or *Lightly* active. However still **16% are sedentary**"
   ]
  },
  {
   "cell_type": "markdown",
   "id": "bf62e703",
   "metadata": {
    "papermill": {
     "duration": 0.030298,
     "end_time": "2024-08-21T23:03:44.055505",
     "exception": false,
     "start_time": "2024-08-21T23:03:44.025207",
     "status": "completed"
    },
    "tags": []
   },
   "source": [
    "------------------------------------------------------------------------------------------------------------------------"
   ]
  },
  {
   "cell_type": "markdown",
   "id": "8c10c961",
   "metadata": {
    "papermill": {
     "duration": 0.030292,
     "end_time": "2024-08-21T23:03:44.116932",
     "exception": false,
     "start_time": "2024-08-21T23:03:44.086640",
     "status": "completed"
    },
    "tags": []
   },
   "source": [
    "# Act - Recommendations"
   ]
  },
  {
   "cell_type": "markdown",
   "id": "5420c4c4",
   "metadata": {
    "papermill": {
     "duration": 0.030658,
     "end_time": "2024-08-21T23:03:44.178296",
     "exception": false,
     "start_time": "2024-08-21T23:03:44.147638",
     "status": "completed"
    },
    "tags": []
   },
   "source": [
    "* Create a reward within a gamified system for losing calories and having recommended hours of sleep\n",
    "* Create a system where users can set a sleep time reminder\n",
    "* Create a widget for routine schedule\n",
    "* Let people know how much hours of sleep they had when they wake up, if it's less than recommended it should advise them about the cons of not sleeping enough\n",
    "* For the sedentary users, it would be highly recommended to motivate them about exercising. Which infers in developing an exercise programme or making partnership with another fitness company to improve it\n",
    "* Warnings about the low number of steps weekly, with some kind of sound alarm or vibration as an emergency"
   ]
  },
  {
   "cell_type": "code",
   "execution_count": null,
   "id": "4f19af59",
   "metadata": {
    "papermill": {
     "duration": 0.029959,
     "end_time": "2024-08-21T23:03:44.238781",
     "exception": false,
     "start_time": "2024-08-21T23:03:44.208822",
     "status": "completed"
    },
    "tags": []
   },
   "outputs": [],
   "source": []
  }
 ],
 "metadata": {
  "kaggle": {
   "accelerator": "none",
   "dataSources": [
    {
     "datasetId": 1041311,
     "sourceId": 7746251,
     "sourceType": "datasetVersion"
    }
   ],
   "isGpuEnabled": false,
   "isInternetEnabled": false,
   "language": "python",
   "sourceType": "notebook"
  },
  "kernelspec": {
   "display_name": "Python 3",
   "language": "python",
   "name": "python3"
  },
  "language_info": {
   "codemirror_mode": {
    "name": "ipython",
    "version": 3
   },
   "file_extension": ".py",
   "mimetype": "text/x-python",
   "name": "python",
   "nbconvert_exporter": "python",
   "pygments_lexer": "ipython3",
   "version": "3.10.14"
  },
  "papermill": {
   "default_parameters": {},
   "duration": 14.91896,
   "end_time": "2024-08-21T23:03:44.992015",
   "environment_variables": {},
   "exception": null,
   "input_path": "__notebook__.ipynb",
   "output_path": "__notebook__.ipynb",
   "parameters": {},
   "start_time": "2024-08-21T23:03:30.073055",
   "version": "2.6.0"
  }
 },
 "nbformat": 4,
 "nbformat_minor": 5
}
